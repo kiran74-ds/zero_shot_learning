{
  "nbformat": 4,
  "nbformat_minor": 0,
  "metadata": {
    "accelerator": "GPU",
    "colab": {
      "name": "Zero_Shot_Learning.ipynb",
      "provenance": [],
      "collapsed_sections": [],
      "authorship_tag": "ABX9TyOJp9oPX8MXzYIJ2DSFSd3q",
      "include_colab_link": true
    },
    "kernelspec": {
      "display_name": "Python 3",
      "name": "python3"
    }
  },
  "cells": [
    {
      "cell_type": "markdown",
      "metadata": {
        "id": "view-in-github",
        "colab_type": "text"
      },
      "source": [
        "<a href=\"https://colab.research.google.com/github/kiran74-ds/zsl/blob/main/Zero_Shot_Learning.ipynb\" target=\"_parent\"><img src=\"https://colab.research.google.com/assets/colab-badge.svg\" alt=\"Open In Colab\"/></a>"
      ]
    },
    {
      "cell_type": "markdown",
      "metadata": {
        "id": "VCaSnVCnyvSp"
      },
      "source": [
        "#### Zero shot learning aims to solve a task to identify classes that are not seen by the model during training.\n",
        "\n",
        "#### For example, let’s say you have seen a horse but never seen a zebra. If I tell you that a zebra looks like a horse but it has black and white stripes, you will probably immediately recognize a zebra when you see it.\n",
        "\n",
        "#### This is what zero-shot learning aims to tackle."
      ]
    },
    {
      "cell_type": "markdown",
      "metadata": {
        "id": "1UNyYMSNyqjM"
      },
      "source": [
        "#### The high-level strategy we adopt while coding up Zero-shot learning is:\n",
        "1. Import dataset- which constitutes training images and their corresponding class labels\n",
        "2. Fetch the word vectors corresponding to each class from pre-trained word vector models.\n",
        "3. Pass the image through a pre-trained image model like VGG16 and obtain image embedding.\n",
        "4. We expect the network to predict the word vector corresponding to the object in the image.\n",
        "5. Once we train the model, predict word vector on new images.\n",
        "6. The class of word vector that is closest to the predicted word vector is the class of image."
      ]
    },
    {
      "cell_type": "markdown",
      "metadata": {
        "id": "_dB5QoPs3Mp1"
      },
      "source": [
        "<img src=\"https://www.learnopencv.com/wp-content/uploads/2020/06/zero-shot-learning-embedding-based-methods.png\">\n"
      ]
    },
    {
      "cell_type": "markdown",
      "metadata": {
        "id": "rnTT45vzESbF"
      },
      "source": [
        "**Train Classes**:\n",
        "arm, boy, bread, chicken, child, computer, ear, house, leg, sandwich, television, truck, vehicle, watch, woman\n",
        "\n",
        "**Zero-Shot Classes**:\n",
        "car, food, hand, man, neck\n"
      ]
    },
    {
      "cell_type": "code",
      "metadata": {
        "colab": {
          "base_uri": "https://localhost:8080/"
        },
        "id": "41fwAHbCyx9p",
        "outputId": "d3632aeb-4424-478b-f818-51fc6d7433a2"
      },
      "source": [
        "!git clone https://github.com/kiran74-ds/zsl.git"
      ],
      "execution_count": 1,
      "outputs": [
        {
          "output_type": "stream",
          "text": [
            "Cloning into 'zsl'...\n",
            "remote: Enumerating objects: 31, done.\u001b[K\n",
            "remote: Counting objects:   3% (1/31)\u001b[K\rremote: Counting objects:   6% (2/31)\u001b[K\rremote: Counting objects:   9% (3/31)\u001b[K\rremote: Counting objects:  12% (4/31)\u001b[K\rremote: Counting objects:  16% (5/31)\u001b[K\rremote: Counting objects:  19% (6/31)\u001b[K\rremote: Counting objects:  22% (7/31)\u001b[K\rremote: Counting objects:  25% (8/31)\u001b[K\rremote: Counting objects:  29% (9/31)\u001b[K\rremote: Counting objects:  32% (10/31)\u001b[K\rremote: Counting objects:  35% (11/31)\u001b[K\rremote: Counting objects:  38% (12/31)\u001b[K\rremote: Counting objects:  41% (13/31)\u001b[K\rremote: Counting objects:  45% (14/31)\u001b[K\rremote: Counting objects:  48% (15/31)\u001b[K\rremote: Counting objects:  51% (16/31)\u001b[K\rremote: Counting objects:  54% (17/31)\u001b[K\rremote: Counting objects:  58% (18/31)\u001b[K\rremote: Counting objects:  61% (19/31)\u001b[K\rremote: Counting objects:  64% (20/31)\u001b[K\rremote: Counting objects:  67% (21/31)\u001b[K\rremote: Counting objects:  70% (22/31)\u001b[K\rremote: Counting objects:  74% (23/31)\u001b[K\rremote: Counting objects:  77% (24/31)\u001b[K\rremote: Counting objects:  80% (25/31)\u001b[K\rremote: Counting objects:  83% (26/31)\u001b[K\rremote: Counting objects:  87% (27/31)\u001b[K\rremote: Counting objects:  90% (28/31)\u001b[K\rremote: Counting objects:  93% (29/31)\u001b[K\rremote: Counting objects:  96% (30/31)\u001b[K\rremote: Counting objects: 100% (31/31)\u001b[K\rremote: Counting objects: 100% (31/31), done.\u001b[K\n",
            "remote: Compressing objects:   4% (1/23)\u001b[K\rremote: Compressing objects:   8% (2/23)\u001b[K\rremote: Compressing objects:  13% (3/23)\u001b[K\rremote: Compressing objects:  17% (4/23)\u001b[K\rremote: Compressing objects:  21% (5/23)\u001b[K\rremote: Compressing objects:  26% (6/23)\u001b[K\rremote: Compressing objects:  30% (7/23)\u001b[K\rremote: Compressing objects:  34% (8/23)\u001b[K\rremote: Compressing objects:  39% (9/23)\u001b[K\rremote: Compressing objects:  43% (10/23)\u001b[K\rremote: Compressing objects:  47% (11/23)\u001b[K\rremote: Compressing objects:  52% (12/23)\u001b[K\rremote: Compressing objects:  56% (13/23)\u001b[K\rremote: Compressing objects:  60% (14/23)\u001b[K\rremote: Compressing objects:  65% (15/23)\u001b[K\rremote: Compressing objects:  69% (16/23)\u001b[K\rremote: Compressing objects:  73% (17/23)\u001b[K\rremote: Compressing objects:  78% (18/23)\u001b[K\rremote: Compressing objects:  82% (19/23)\u001b[K\rremote: Compressing objects:  86% (20/23)\u001b[K\rremote: Compressing objects:  91% (21/23)\u001b[K\rremote: Compressing objects:  95% (22/23)\u001b[K\rremote: Compressing objects: 100% (23/23)\u001b[K\rremote: Compressing objects: 100% (23/23), done.\u001b[K\n",
            "remote: Total 31 (delta 4), reused 27 (delta 3), pack-reused 0\u001b[K\n",
            "Unpacking objects: 100% (31/31), done.\n"
          ],
          "name": "stdout"
        }
      ]
    },
    {
      "cell_type": "markdown",
      "metadata": {
        "id": "aZGM7nZ8OeAm"
      },
      "source": [
        "**Import Libraries**"
      ]
    },
    {
      "cell_type": "code",
      "metadata": {
        "colab": {
          "base_uri": "https://localhost:8080/"
        },
        "id": "bNQF1nB-KQ4F",
        "outputId": "8cb298ca-1c88-4a56-e7f7-483c3aa6b009"
      },
      "source": [
        "%cd zero-shot-learning/src\n",
        "import gzip\n",
        "import _pickle as cPickle\n",
        "import numpy as np\n",
        "import torch\n",
        "import torch.nn as nn\n",
        "import torch.optim as optim\n",
        "from sklearn.preprocessing import LabelEncoder, normalize \n",
        "from torch.utils.data import TensorDataset, DataLoader\n",
        "\n",
        "device = 'cuda' if torch.cuda.is_available() else 'cpu'"
      ],
      "execution_count": 2,
      "outputs": [
        {
          "output_type": "stream",
          "text": [
            "/content/zero-shot-learning/src\n"
          ],
          "name": "stdout"
        }
      ]
    },
    {
      "cell_type": "markdown",
      "metadata": {
        "id": "kXXBJn0-PM2H"
      },
      "source": [
        "#### Image Embeddings\n",
        "\n",
        "Then, image features are extracted from these cropped images using a pre-trained model, VGG16 in our case . Feature extractor class can be seen below."
      ]
    },
    {
      "cell_type": "code",
      "metadata": {
        "id": "E9Yc0ZlzPK7t"
      },
      "source": [
        "DATAPATH = \"../data/zeroshot_data.pkl\""
      ],
      "execution_count": 3,
      "outputs": []
    },
    {
      "cell_type": "markdown",
      "metadata": {
        "id": "s1Jhw5jVPQuN"
      },
      "source": [
        "#### Class Embeddings\n",
        "\n",
        "Class embedding is the vector representation of a class (class label)\n",
        "\n",
        "After we have extracted the image features and formed the datasets, now we should gather the other representations of classes, word embeddings namely. We will use Google Word2Vec representation trained on Google News documents. We will get a Wor2Vec of 300 dimensions for each of the 20 object classes we have specified"
      ]
    },
    {
      "cell_type": "code",
      "metadata": {
        "id": "p2alIvVRLFEI"
      },
      "source": [
        "WORD2VECPATH = \"../data/class_vectors.npy\" "
      ],
      "execution_count": 4,
      "outputs": []
    },
    {
      "cell_type": "markdown",
      "metadata": {
        "id": "gnZqvZjjRVKE"
      },
      "source": [
        ""
      ]
    },
    {
      "cell_type": "code",
      "metadata": {
        "id": "zJ2pZx7xLYJ7"
      },
      "source": [
        "with open('train_classes.txt', 'r') as infile: \n",
        "  train_classes = [str.strip(line) for line in infile]"
      ],
      "execution_count": 5,
      "outputs": []
    },
    {
      "cell_type": "code",
      "metadata": {
        "id": "RZlvnxyhrZyn"
      },
      "source": [
        "with gzip.GzipFile(DATAPATH, 'rb') as infile: \n",
        "    data = cPickle.load(infile)\n",
        "training_data = [instance for instance in data if instance[0] in train_classes]"
      ],
      "execution_count": 6,
      "outputs": []
    },
    {
      "cell_type": "code",
      "metadata": {
        "id": "pgdOFmjora93"
      },
      "source": [
        "train_size = 300 # per class\n",
        "train_data, valid_data = [], [] \n",
        "for class_label in train_classes:\n",
        "  ctr = 0\n",
        "  for instance in training_data:\n",
        "    if instance[0] == class_label:\n",
        "      if ctr < train_size:\n",
        "          train_data.append(instance)\n",
        "          ctr+=1 \n",
        "      else:\n",
        "          valid_data.append(instance)"
      ],
      "execution_count": 7,
      "outputs": []
    },
    {
      "cell_type": "markdown",
      "metadata": {
        "id": "P3aVD_HBOnpm"
      },
      "source": [
        "**Load the Data** "
      ]
    },
    {
      "cell_type": "code",
      "metadata": {
        "id": "BVk543MaLb1q"
      },
      "source": [
        "def load_data():\n",
        "  # Load the feature vector data\n",
        "  with gzip.GzipFile(DATAPATH, 'rb') as infile: \n",
        "    data = cPickle.load(infile)\n",
        "\n",
        "  # Define the training classes and the classes that belong to zero-shot. \n",
        "  # Note that, we will only show the classes belonging to training classes and hide the zero-shot model classes until the inference time\n",
        "\n",
        "  training_data = [instance for instance in data if instance[0] in train_classes]\n",
        "  zero_shot_data = [instance for instance in data if instance[0] not in train_classes]\n",
        "  np.random.shuffle(training_data)\n",
        "\n",
        "  # Fetch 300 training images per class for training and the remaining training class images into validation\n",
        "  train_size = 300 # per class\n",
        "  train_data, valid_data = [], [] \n",
        "  for class_label in train_classes:\n",
        "    ctr = 0\n",
        "    for instance in training_data:\n",
        "      if instance[0] == class_label:\n",
        "        if ctr < train_size:\n",
        "            train_data.append(instance)\n",
        "            ctr+=1 \n",
        "        else:\n",
        "            valid_data.append(instance)\n",
        "\n",
        "  # Shuffle the training and validation data and fetch the vectors corresponding to the classes into a dictionary \n",
        "  np.random.shuffle(train_data)\n",
        "  np.random.shuffle(valid_data)\n",
        "  vectors = {i:j for i,j in np.load(WORD2VECPATH, allow_pickle=True)}\n",
        "\n",
        "  # Fetch the training, validation, and zero-shot classes\n",
        "  train_clss = [clss for clss,feat in train_data] \n",
        "  valid_clss = [clss for clss,feat in valid_data] \n",
        "  zero_shot_clss = [clss for clss,feat in zero_shot_data]\n",
        "\n",
        "  # Fetch the image and word embedding features for training and validation data\n",
        "  train_data = [(feat, vectors[clss]) for clss,feat in train_data] \n",
        "  valid_data = [(feat, vectors[clss]) for clss,feat in valid_data]\n",
        "\n",
        "  # Define the input and output arrays of training data, validation data, and zero- shot data\n",
        "  x_train, y_train = zip(*train_data)\n",
        "  x_train, y_train = np.squeeze(np.asarray(x_train)), np.squeeze(np.asarray(y_train))\n",
        "  x_train = normalize(x_train, norm='l2')\n",
        "\n",
        "  x_valid, y_valid = zip(*valid_data)\n",
        "  x_valid, y_valid = np.squeeze(np.asarray(x_valid)), np.squeeze(np.asarray(y_valid))\n",
        "  x_valid = normalize(x_valid, norm='l2')\n",
        "\n",
        "  y_zsl, x_zsl = zip(*zero_shot_data)\n",
        "  x_zsl, y_zsl = np.squeeze(np.asarray(x_zsl)), np.squeeze(np.asarray(y_zsl))\n",
        "  x_zsl = normalize(x_zsl, norm='l2')\n",
        "\n",
        "  # Define the training and validation datasets and dataloaders\n",
        "  trn_ds = TensorDataset(*[torch.Tensor(t).to(device) for t in [x_train, y_train]])\n",
        "  val_ds = TensorDataset(*[torch.Tensor(t).to(device) for t in [x_valid, y_valid]])\n",
        "\n",
        "  trn_dl = DataLoader(trn_ds, batch_size=32, shuffle=True) \n",
        "  val_dl = DataLoader(val_ds, batch_size=32, shuffle=False)\n",
        "\n",
        "  return trn_dl, val_dl, x_zsl, zero_shot_clss, valid_clss, x_valid"
      ],
      "execution_count": 8,
      "outputs": []
    },
    {
      "cell_type": "markdown",
      "metadata": {
        "id": "JYGAuiW5OArc"
      },
      "source": [
        "**Model Building and Training**"
      ]
    },
    {
      "cell_type": "markdown",
      "metadata": {
        "id": "H9J4_ijb03rQ"
      },
      "source": [
        "Build a model that takes the 4096-dimensional feature as input and predicts the 300-dimensional vector as output\n"
      ]
    },
    {
      "cell_type": "code",
      "metadata": {
        "id": "6B-Vp8LPMKHZ"
      },
      "source": [
        "def build_model(): \n",
        "  return nn.Sequential(\n",
        "      nn.Linear(4096, 1024), \n",
        "      nn.ReLU(inplace=True), \n",
        "      nn.BatchNorm1d(1024), \n",
        "      nn.Dropout(0.8), \n",
        "      nn.Linear(1024, 512), \n",
        "      nn.ReLU(inplace=True), \n",
        "      nn.BatchNorm1d(512), \n",
        "      nn.Dropout(0.8), \n",
        "      nn.Linear(512, 256), \n",
        "      nn.ReLU(inplace=True), \n",
        "      nn.BatchNorm1d(256), \n",
        "      nn.Dropout(0.8), \n",
        "      nn.Linear(256, 300)\n",
        ")"
      ],
      "execution_count": 9,
      "outputs": []
    },
    {
      "cell_type": "markdown",
      "metadata": {
        "id": "2j3S8pkP08qt"
      },
      "source": [
        "Functions to train and validate on a batch of data"
      ]
    },
    {
      "cell_type": "code",
      "metadata": {
        "id": "F54GYaMxMYhe"
      },
      "source": [
        "def train_batch(model, data, optimizer, criterion):\n",
        "  model.train()\n",
        "  ims, labels = data\n",
        "  _preds = model(ims)\n",
        "  optimizer.zero_grad()\n",
        "  loss = criterion(_preds, labels)\n",
        "  loss.backward() \n",
        "  optimizer.step() \n",
        "  return loss.item()\n",
        "\n",
        "@torch.no_grad()\n",
        "def validate_batch(model, data, criterion):\n",
        "  model.eval()\n",
        "  ims, labels = data\n",
        "  _preds = model(ims)\n",
        "  loss = criterion(_preds, labels) \n",
        "  \n",
        "  return loss.item()"
      ],
      "execution_count": 10,
      "outputs": []
    },
    {
      "cell_type": "markdown",
      "metadata": {
        "id": "w8aZfhaL1FMp"
      },
      "source": [
        "Train the model over increasing epochs"
      ]
    },
    {
      "cell_type": "code",
      "metadata": {
        "colab": {
          "base_uri": "https://localhost:8080/"
        },
        "id": "bAGyL6aAGO3w",
        "outputId": "2cdf72ba-7f3c-48d4-dde2-1dce603861e3"
      },
      "source": [
        "trn_dl, val_dl, x_zsl, zero_shot_clss, valid_clss, x_valid = load_data()\n",
        "model = build_model().to(device)\n",
        "\n",
        "print(model)"
      ],
      "execution_count": 11,
      "outputs": [
        {
          "output_type": "stream",
          "text": [
            "Sequential(\n",
            "  (0): Linear(in_features=4096, out_features=1024, bias=True)\n",
            "  (1): ReLU(inplace=True)\n",
            "  (2): BatchNorm1d(1024, eps=1e-05, momentum=0.1, affine=True, track_running_stats=True)\n",
            "  (3): Dropout(p=0.8, inplace=False)\n",
            "  (4): Linear(in_features=1024, out_features=512, bias=True)\n",
            "  (5): ReLU(inplace=True)\n",
            "  (6): BatchNorm1d(512, eps=1e-05, momentum=0.1, affine=True, track_running_stats=True)\n",
            "  (7): Dropout(p=0.8, inplace=False)\n",
            "  (8): Linear(in_features=512, out_features=256, bias=True)\n",
            "  (9): ReLU(inplace=True)\n",
            "  (10): BatchNorm1d(256, eps=1e-05, momentum=0.1, affine=True, track_running_stats=True)\n",
            "  (11): Dropout(p=0.8, inplace=False)\n",
            "  (12): Linear(in_features=256, out_features=300, bias=True)\n",
            ")\n"
          ],
          "name": "stdout"
        }
      ]
    },
    {
      "cell_type": "code",
      "metadata": {
        "colab": {
          "base_uri": "https://localhost:8080/"
        },
        "id": "E_LAsJygMnoi",
        "outputId": "61cf6cd3-92b7-412d-971e-d14160588c35"
      },
      "source": [
        "criterion = nn.MSELoss()\n",
        "optimizer = optim.Adam(model.parameters(), lr=1e-3) \n",
        "\n",
        "n_epochs = 65\n",
        "train_losses, valid_losses = [], []\n",
        "#log = Report(n_epochs) \n",
        "for ex in range(n_epochs):\n",
        "  N = len(trn_dl)\n",
        "  running_loss = 0 \n",
        "  for bx, data in enumerate(trn_dl):\n",
        "    batch_loss = train_batch(model, data, optimizer, criterion) \n",
        "    running_loss += batch_loss *32 \n",
        "  train_epoch_loss = running_loss / N\n",
        "  train_losses.append(train_epoch_loss)\n",
        "    #log.record(ex+(bx+1)/N, trn_loss=loss, end='\\r')\n",
        "\n",
        "  N = len(val_dl)\n",
        "  running_loss = 0 \n",
        "  for bx, data in enumerate(val_dl):\n",
        "    batch_loss = validate_batch(model, data, criterion)\n",
        "    running_loss += batch_loss *32 \n",
        "  valid_epoch_loss = running_loss / N\n",
        "  valid_losses.append(valid_epoch_loss)\n",
        "    #log.record(ex+(bx+1)/N, val_loss=loss, end='\\r')\n",
        "  print(\"Epoch {} , training loss {}, valid loss {}\".format(ex+1, train_epoch_loss, valid_epoch_loss))\n",
        "\n",
        "  if ex == 10: optimizer = optim.Adam(model.parameters(), lr=1e-4) \n",
        "  if ex == 40: optimizer = optim.Adam(model.parameters(), lr=1e-5) \n",
        "  #if not (ex+1)%10: log.report_avgs(ex+1)\n",
        "\n",
        "#log.plot(log=True)"
      ],
      "execution_count": 12,
      "outputs": [
        {
          "output_type": "stream",
          "text": [
            "Epoch 1 , training loss 19.120066272451524, valid loss 0.6701433772736407\n",
            "Epoch 2 , training loss 1.3871672115427383, valid loss 0.5630186542551568\n",
            "Epoch 3 , training loss 0.6363185893559287, valid loss 0.5490318701622334\n",
            "Epoch 4 , training loss 0.6239724666514295, valid loss 0.5400513879796291\n",
            "Epoch 5 , training loss 0.6247138905187025, valid loss 0.5322176503374222\n",
            "Epoch 6 , training loss 0.622259498910701, valid loss 0.5161788577729083\n",
            "Epoch 7 , training loss 0.6281832029633488, valid loss 0.5060342004958619\n",
            "Epoch 8 , training loss 0.6227631856363716, valid loss 0.49523815132201987\n",
            "Epoch 9 , training loss 0.625836211316129, valid loss 0.48405677650837187\n",
            "Epoch 10 , training loss 0.6208950310734147, valid loss 0.4713025391101837\n",
            "Epoch 11 , training loss 0.6144149705027857, valid loss 0.4671480490806255\n",
            "Epoch 12 , training loss 0.5516382899690182, valid loss 0.44880952353173115\n",
            "Epoch 13 , training loss 0.505748468933376, valid loss 0.439536507459397\n",
            "Epoch 14 , training loss 0.4949049989805154, valid loss 0.43344173659669594\n",
            "Epoch 15 , training loss 0.48332577077209526, valid loss 0.42858542850677\n",
            "Epoch 16 , training loss 0.4824357231458028, valid loss 0.41795146084846335\n",
            "Epoch 17 , training loss 0.4773815337647783, valid loss 0.411989226620248\n",
            "Epoch 18 , training loss 0.4703060950793273, valid loss 0.4059046614677348\n",
            "Epoch 19 , training loss 0.461424283736141, valid loss 0.3992416433831479\n",
            "Epoch 20 , training loss 0.4571355883534073, valid loss 0.39065548206897494\n",
            "Epoch 21 , training loss 0.4503978173783485, valid loss 0.3828535428706636\n",
            "Epoch 22 , training loss 0.4463142957670469, valid loss 0.3763521795577191\n",
            "Epoch 23 , training loss 0.4415283302466075, valid loss 0.3776526685724867\n",
            "Epoch 24 , training loss 0.43352746794409786, valid loss 0.37113927590086104\n",
            "Epoch 25 , training loss 0.4259298061225431, valid loss 0.3669253321404153\n",
            "Epoch 26 , training loss 0.423453022613593, valid loss 0.36299872588604054\n",
            "Epoch 27 , training loss 0.42155432616565247, valid loss 0.35689356542648154\n",
            "Epoch 28 , training loss 0.41466603528523277, valid loss 0.3569346457085711\n",
            "Epoch 29 , training loss 0.41510761291422743, valid loss 0.3585142518611664\n",
            "Epoch 30 , training loss 0.4089073828348877, valid loss 0.353593203615635\n",
            "Epoch 31 , training loss 0.40755909554501796, valid loss 0.35042705117387973\n",
            "Epoch 32 , training loss 0.4018095275189014, valid loss 0.348277655687738\n",
            "Epoch 33 , training loss 0.40099818972831075, valid loss 0.34832297550871016\n",
            "Epoch 34 , training loss 0.3945871908613976, valid loss 0.34557009060332117\n",
            "Epoch 35 , training loss 0.3879527470744248, valid loss 0.3436201772791274\n",
            "Epoch 36 , training loss 0.38596612658906493, valid loss 0.34171862107642154\n",
            "Epoch 37 , training loss 0.3855348690181759, valid loss 0.33905913855167147\n",
            "Epoch 38 , training loss 0.3793004419363982, valid loss 0.33783614952513513\n",
            "Epoch 39 , training loss 0.3800726680890888, valid loss 0.33554718278824014\n",
            "Epoch 40 , training loss 0.3791680139430026, valid loss 0.33401779545114396\n",
            "Epoch 41 , training loss 0.37837272924734344, valid loss 0.33223352660524086\n",
            "Epoch 42 , training loss 0.3687695397975597, valid loss 0.3314208185419123\n",
            "Epoch 43 , training loss 0.3663180675489683, valid loss 0.332540049197826\n",
            "Epoch 44 , training loss 0.36369792197613005, valid loss 0.33028601078276937\n",
            "Epoch 45 , training loss 0.36148204490648095, valid loss 0.3314503532774905\n",
            "Epoch 46 , training loss 0.3612301009343871, valid loss 0.33005523491413036\n",
            "Epoch 47 , training loss 0.3587728134283783, valid loss 0.33134729684667386\n",
            "Epoch 48 , training loss 0.3589870502762761, valid loss 0.3305915055122781\n",
            "Epoch 49 , training loss 0.35630033603796724, valid loss 0.32791765319540145\n",
            "Epoch 50 , training loss 0.35511330700089744, valid loss 0.32800227593868336\n",
            "Epoch 51 , training loss 0.3521475667226399, valid loss 0.3292211871197883\n",
            "Epoch 52 , training loss 0.3556970928577667, valid loss 0.3306574009834452\n",
            "Epoch 53 , training loss 0.35592696937263435, valid loss 0.3299682273509655\n",
            "Epoch 54 , training loss 0.35310455522638684, valid loss 0.3282675476784402\n",
            "Epoch 55 , training loss 0.35264730390082016, valid loss 0.3260470647761162\n",
            "Epoch 56 , training loss 0.3498016380249186, valid loss 0.32786848887484127\n",
            "Epoch 57 , training loss 0.3534655342710779, valid loss 0.3267267625382606\n",
            "Epoch 58 , training loss 0.3504882440076652, valid loss 0.3256780143747938\n",
            "Epoch 59 , training loss 0.3507686012180139, valid loss 0.3297404386895768\n",
            "Epoch 60 , training loss 0.34957525810451373, valid loss 0.32709060514226873\n",
            "Epoch 61 , training loss 0.3503578336949044, valid loss 0.3241228829038904\n",
            "Epoch 62 , training loss 0.34755388007941823, valid loss 0.3269104729307459\n",
            "Epoch 63 , training loss 0.34963957384123023, valid loss 0.3254892572443536\n",
            "Epoch 64 , training loss 0.3464119170151704, valid loss 0.3271877454950454\n",
            "Epoch 65 , training loss 0.3486054584066919, valid loss 0.3249420238302109\n"
          ],
          "name": "stdout"
        }
      ]
    },
    {
      "cell_type": "code",
      "metadata": {
        "colab": {
          "base_uri": "https://localhost:8080/",
          "height": 350
        },
        "id": "Qu1A5F4Ftd4S",
        "outputId": "7a65e2a0-912d-4afc-9e77-f2796160ebaa"
      },
      "source": [
        "import matplotlib.pyplot as plt\n",
        "epochs = np.arange(65)+1\n",
        "plt.figure(figsize=(20,5))\n",
        "plt.subplot(121)\n",
        "plt.title('Loss value over increasing epochs') \n",
        "plt.plot(epochs, train_losses, label='Training Loss') \n",
        "plt.plot(epochs, valid_losses, label='Validation Loss', linestyle='dashed') \n",
        "plt.xlabel(\"Epoch\")\n",
        "plt.ylabel(\"Loss\")\n",
        "plt.ylim(0, 2.5)\n",
        "plt.legend();"
      ],
      "execution_count": 19,
      "outputs": [
        {
          "output_type": "display_data",
          "data": {
            "image/png": "[encoded data removed]",
            "text/plain": [
              "<Figure size 1440x360 with 1 Axes>"
            ]
          },
          "metadata": {
            "tags": [],
            "needs_background": "light"
          }
        }
      ]
    },
    {
      "cell_type": "markdown",
      "metadata": {
        "id": "2lvF9aYEN0lj"
      },
      "source": [
        "**Model Evaluation**"
      ]
    },
    {
      "cell_type": "markdown",
      "metadata": {
        "id": "n4flzHpt1MHd"
      },
      "source": [
        "Predict on images that contain the zero-shot classes (classes which the model has not seen) and also fetch the actual features and classnames corresponding to the zero-shot classes"
      ]
    },
    {
      "cell_type": "code",
      "metadata": {
        "colab": {
          "base_uri": "https://localhost:8080/"
        },
        "id": "zJmSxApop8ZE",
        "outputId": "df33fd60-f1ab-47ad-ae2f-36a95f7d09d6"
      },
      "source": [
        "pred_zsl = model(torch.Tensor(x_valid).to(device)).cpu().detach().numpy()\n",
        "\n",
        "class_vectors = sorted(np.load(WORD2VECPATH, allow_pickle=True), key=lambda x: x[0])\n",
        "classnames, vectors = zip(*class_vectors)\n",
        "classnames = list(classnames)\n",
        "\n",
        "vectors = np.array(vectors)\n",
        "\n",
        "dists = (pred_zsl[None] - vectors[:,None]) \n",
        "dists = (dists**2).sum(-1).T\n",
        "\n",
        "best_classes = []\n",
        "for item in dists:\n",
        "  best_classes.append([classnames[j] for j in np.argsort(item)[:5]])\n",
        "\n",
        "np.mean([i in J for i,J in zip(valid_clss, best_classes)])"
      ],
      "execution_count": 20,
      "outputs": [
        {
          "output_type": "execute_result",
          "data": {
            "text/plain": [
              "0.8814467515070328"
            ]
          },
          "metadata": {
            "tags": []
          },
          "execution_count": 20
        }
      ]
    },
    {
      "cell_type": "code",
      "metadata": {
        "id": "8JRcKEOFNDnu"
      },
      "source": [
        "pred_zsl = model(torch.Tensor(x_zsl).to(device)).cpu().detach().numpy()\n",
        "\n",
        "class_vectors = sorted(np.load(WORD2VECPATH, allow_pickle=True), key=lambda x: x[0])\n",
        "classnames, vectors = zip(*class_vectors)\n",
        "classnames = list(classnames)\n",
        "\n",
        "vectors = np.array(vectors)"
      ],
      "execution_count": 22,
      "outputs": []
    },
    {
      "cell_type": "markdown",
      "metadata": {
        "id": "yVCqiKhl1PNZ"
      },
      "source": [
        "Calculate the distance between each predicted vector and the vector corresponding to the available classes and measure the number of zero-shot classes present in the top 5 predictions"
      ]
    },
    {
      "cell_type": "code",
      "metadata": {
        "colab": {
          "base_uri": "https://localhost:8080/"
        },
        "id": "TOV51JrW1PgS",
        "outputId": "01880cbb-4803-4f19-bbc1-07ced685411d"
      },
      "source": [
        "dists = (pred_zsl[None] - vectors[:,None]) \n",
        "dists = (dists**2).sum(-1).T\n",
        "\n",
        "best_classes = []\n",
        "for item in dists:\n",
        "  best_classes.append([classnames[j] for j in np.argsort(item)[:5]])\n",
        "\n",
        "np.mean([i in J for i,J in zip(zero_shot_clss, best_classes)])"
      ],
      "execution_count": 23,
      "outputs": [
        {
          "output_type": "execute_result",
          "data": {
            "text/plain": [
              "0.7978989494747374"
            ]
          },
          "metadata": {
            "tags": []
          },
          "execution_count": 23
        }
      ]
    },
    {
      "cell_type": "markdown",
      "metadata": {
        "id": "f2Onv0EYyckM"
      },
      "source": [
        "We can predict correctly for ~80% of the images that contain an object whose class is not present during training, in the top 5 predictions of the model.\n",
        "Note that the percentage of correctly classified images will be 6%, 14%, and 40% for top 1,2,3 predictions, respectively"
      ]
    },
    {
      "cell_type": "code",
      "metadata": {
        "id": "Q0bJoy84fFdz"
      },
      "source": [
        ""
      ],
      "execution_count": null,
      "outputs": []
    }
  ]
}