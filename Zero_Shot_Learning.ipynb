{
  "nbformat": 4,
  "nbformat_minor": 0,
  "metadata": {
    "accelerator": "GPU",
    "colab": {
      "name": "Zero_Shot_Learning.ipynb",
      "provenance": [],
      "collapsed_sections": [],
      "authorship_tag": "ABX9TyOVc7t3IEQibE9a6g/Xjnd5",
      "include_colab_link": true
    },
    "kernelspec": {
      "display_name": "Python 3",
      "name": "python3"
    }
  },
  "cells": [
    {
      "cell_type": "markdown",
      "metadata": {
        "id": "view-in-github",
        "colab_type": "text"
      },
      "source": [
        "<a href=\"https://colab.research.google.com/github/kiran74-ds/zsl/blob/main/Zero_Shot_Learning.ipynb\" target=\"_parent\"><img src=\"https://colab.research.google.com/assets/colab-badge.svg\" alt=\"Open In Colab\"/></a>"
      ]
    },
    {
      "cell_type": "markdown",
      "metadata": {
        "id": "VCaSnVCnyvSp"
      },
      "source": [
        "#### Zero shot learning aims to solve a task to identify classes that are not seen by the model during training.\n",
        "\n",
        "#### For example, let’s say you have seen a horse but never seen a zebra. If I tell you that a zebra looks like a horse but it has black and white stripes, you will probably immediately recognize a zebra when you see it.\n",
        "\n",
        "#### This is what zero-shot learning aims to tackle."
      ]
    },
    {
      "cell_type": "markdown",
      "metadata": {
        "id": "1UNyYMSNyqjM"
      },
      "source": [
        "#### The high-level strategy we adopt while coding up Zero-shot learning is:\n",
        "1. Import dataset- which constitutes training images and their corresponding class labels\n",
        "2. Fetch the word vectors corresponding to each class from pre-trained word vector models.\n",
        "3. Pass the image through a pre-trained image model like VGG16 and obtain image embedding.\n",
        "4. We expect the network to predict the word vector corresponding to the object in the image.\n",
        "5. Once we train the model, predict word vector on new images.\n",
        "6. The class of word vector that is closest to the predicted word vector is the class of image."
      ]
    },
    {
      "cell_type": "markdown",
      "metadata": {
        "id": "_dB5QoPs3Mp1"
      },
      "source": [
        "<img src=\"https://www.learnopencv.com/wp-content/uploads/2020/06/zero-shot-learning-embedding-based-methods.png\">\n"
      ]
    },
    {
      "cell_type": "markdown",
      "metadata": {
        "id": "rnTT45vzESbF"
      },
      "source": [
        "**Train Classes**:\n",
        "arm, boy, bread, chicken, child, computer, ear, house, leg, sandwich, television, truck, vehicle, watch, woman\n",
        "\n",
        "**Zero-Shot Classes**:\n",
        "car, food, hand, man, neck\n"
      ]
    },
    {
      "cell_type": "code",
      "metadata": {
        "colab": {
          "base_uri": "https://localhost:8080/"
        },
        "id": "41fwAHbCyx9p",
        "outputId": "421136b7-7c97-4d7d-f741-48c51c133a37"
      },
      "source": [
        "!git clone https://github.com/kiran74-ds/zsl.git"
      ],
      "execution_count": 11,
      "outputs": [
        {
          "output_type": "stream",
          "text": [
            "Cloning into 'zsl'...\n",
            "remote: Enumerating objects: 74, done.\u001b[K\n",
            "remote: Counting objects: 100% (74/74), done.\u001b[K\n",
            "remote: Compressing objects: 100% (64/64), done.\u001b[K\n",
            "remote: Total 74 (delta 29), reused 31 (delta 4), pack-reused 0\u001b[K\n",
            "Unpacking objects: 100% (74/74), done.\n"
          ],
          "name": "stdout"
        }
      ]
    },
    {
      "cell_type": "markdown",
      "metadata": {
        "id": "aZGM7nZ8OeAm"
      },
      "source": [
        "**Import Libraries**"
      ]
    },
    {
      "cell_type": "code",
      "metadata": {
        "colab": {
          "base_uri": "https://localhost:8080/"
        },
        "id": "bNQF1nB-KQ4F",
        "outputId": "5a257ee3-4173-4996-b7e7-03458cc64094"
      },
      "source": [
        "%cd zsl\n",
        "import gzip\n",
        "import _pickle as cPickle\n",
        "import numpy as np\n",
        "import torch\n",
        "import torch.nn as nn\n",
        "import torch.optim as optim\n",
        "from sklearn.preprocessing import LabelEncoder, normalize \n",
        "from torch.utils.data import TensorDataset, DataLoader\n",
        "\n",
        "device = 'cuda' if torch.cuda.is_available() else 'cpu'"
      ],
      "execution_count": 12,
      "outputs": [
        {
          "output_type": "stream",
          "text": [
            "/content/zsl/zsl\n"
          ],
          "name": "stdout"
        }
      ]
    },
    {
      "cell_type": "markdown",
      "metadata": {
        "id": "kXXBJn0-PM2H"
      },
      "source": [
        "#### Image Embeddings\n",
        "\n",
        "Then, image features are extracted from these cropped images using a pre-trained model, VGG16 in our case . Feature extractor class can be seen below."
      ]
    },
    {
      "cell_type": "code",
      "metadata": {
        "id": "E9Yc0ZlzPK7t"
      },
      "source": [
        "DATAPATH = \"../data/zeroshot_data.pkl\""
      ],
      "execution_count": 13,
      "outputs": []
    },
    {
      "cell_type": "markdown",
      "metadata": {
        "id": "s1Jhw5jVPQuN"
      },
      "source": [
        "#### Class Embeddings\n",
        "\n",
        "Class embedding is the vector representation of a class (class label)\n",
        "\n",
        "After we have extracted the image features and formed the datasets, now we should gather the other representations of classes, word embeddings namely. We will use Google Word2Vec representation trained on Google News documents. We will get a Wor2Vec of 300 dimensions for each of the 20 object classes we have specified"
      ]
    },
    {
      "cell_type": "code",
      "metadata": {
        "id": "p2alIvVRLFEI"
      },
      "source": [
        "WORD2VECPATH = \"../data/class_vectors.npy\" "
      ],
      "execution_count": 14,
      "outputs": []
    },
    {
      "cell_type": "code",
      "metadata": {
        "id": "zJ2pZx7xLYJ7",
        "colab": {
          "base_uri": "https://localhost:8080/"
        },
        "outputId": "421260ab-271e-403c-c2e3-064f3c6bbd99"
      },
      "source": [
        "with open('train_classes.txt', 'r') as infile: \n",
        "  train_classes = [str.strip(line) for line in infile]\n",
        "train_classes"
      ],
      "execution_count": 15,
      "outputs": [
        {
          "output_type": "execute_result",
          "data": {
            "text/plain": [
              "['arm',\n",
              " 'boy',\n",
              " 'bread',\n",
              " 'chicken',\n",
              " 'child',\n",
              " 'computer',\n",
              " 'ear',\n",
              " 'house',\n",
              " 'leg',\n",
              " 'sandwich',\n",
              " 'television',\n",
              " 'truck',\n",
              " 'vehicle',\n",
              " 'watch',\n",
              " 'woman']"
            ]
          },
          "metadata": {
            "tags": []
          },
          "execution_count": 15
        }
      ]
    },
    {
      "cell_type": "code",
      "metadata": {
        "colab": {
          "base_uri": "https://localhost:8080/"
        },
        "id": "0xw-87IF9tBH",
        "outputId": "cb9a002d-1913-48cb-8bc3-b0fdc0073618"
      },
      "source": [
        "with open('zsl_classes.txt', 'r') as infile: \n",
        "  zsl_classes = [str.strip(line) for line in infile]\n",
        "zsl_classes"
      ],
      "execution_count": 16,
      "outputs": [
        {
          "output_type": "execute_result",
          "data": {
            "text/plain": [
              "['car', 'food', 'hand', 'man', 'neck']"
            ]
          },
          "metadata": {
            "tags": []
          },
          "execution_count": 16
        }
      ]
    },
    {
      "cell_type": "markdown",
      "metadata": {
        "id": "P3aVD_HBOnpm"
      },
      "source": [
        "**Load the Data** "
      ]
    },
    {
      "cell_type": "code",
      "metadata": {
        "id": "BVk543MaLb1q"
      },
      "source": [
        "def load_data():\n",
        "  # Load the feature vector data\n",
        "  with gzip.GzipFile(DATAPATH, 'rb') as infile: \n",
        "    data = cPickle.load(infile)\n",
        "\n",
        "  # Define the training classes and the classes that belong to zero-shot. \n",
        "  # Note that, we will only show the classes belonging to training classes and hide the zero-shot model classes until the inference time\n",
        "\n",
        "  training_data = [instance for instance in data if instance[0] in train_classes]\n",
        "  zero_shot_data = [instance for instance in data if instance[0] not in train_classes]\n",
        "  np.random.shuffle(training_data)\n",
        "\n",
        "  # Fetch 300 training images per class for training and the remaining training class images into validation\n",
        "  train_size = 300 # per class\n",
        "  train_data, valid_data = [], [] \n",
        "  for class_label in train_classes:\n",
        "    ctr = 0\n",
        "    for instance in training_data:\n",
        "      if instance[0] == class_label:\n",
        "        if ctr < train_size:\n",
        "            train_data.append(instance)\n",
        "            ctr+=1 \n",
        "        else:\n",
        "            valid_data.append(instance)\n",
        "\n",
        "  # Shuffle the training and validation data and fetch the vectors corresponding to the classes into a dictionary \n",
        "  np.random.shuffle(train_data)\n",
        "  np.random.shuffle(valid_data)\n",
        "  vectors = {i:j for i,j in np.load(WORD2VECPATH, allow_pickle=True)}\n",
        "\n",
        "  # Fetch the training, validation, and zero-shot classes\n",
        "  train_clss = [clss for clss,feat in train_data] \n",
        "  valid_clss = [clss for clss,feat in valid_data] \n",
        "  zero_shot_clss = [clss for clss,feat in zero_shot_data]\n",
        "\n",
        "  # Fetch the image and word embedding features for training and validation data\n",
        "  train_data = [(feat, vectors[clss]) for clss,feat in train_data] \n",
        "  valid_data = [(feat, vectors[clss]) for clss,feat in valid_data]\n",
        "\n",
        "  # Define the input and output arrays of training data, validation data, and zero- shot data\n",
        "  x_train, y_train = zip(*train_data)\n",
        "  x_train, y_train = np.squeeze(np.asarray(x_train)), np.squeeze(np.asarray(y_train))\n",
        "  x_train = normalize(x_train, norm='l2')\n",
        "\n",
        "  x_valid, y_valid = zip(*valid_data)\n",
        "  x_valid, y_valid = np.squeeze(np.asarray(x_valid)), np.squeeze(np.asarray(y_valid))\n",
        "  x_valid = normalize(x_valid, norm='l2')\n",
        "\n",
        "  y_zsl, x_zsl = zip(*zero_shot_data)\n",
        "  x_zsl, y_zsl = np.squeeze(np.asarray(x_zsl)), np.squeeze(np.asarray(y_zsl))\n",
        "  x_zsl = normalize(x_zsl, norm='l2')\n",
        "\n",
        "  # Define the training and validation datasets and dataloaders\n",
        "  trn_ds = TensorDataset(*[torch.Tensor(t).to(device) for t in [x_train, y_train]])\n",
        "  val_ds = TensorDataset(*[torch.Tensor(t).to(device) for t in [x_valid, y_valid]])\n",
        "\n",
        "  trn_dl = DataLoader(trn_ds, batch_size=32, shuffle=True) \n",
        "  val_dl = DataLoader(val_ds, batch_size=32, shuffle=False)\n",
        "\n",
        "  return trn_dl, val_dl, x_zsl, zero_shot_clss, valid_clss, x_valid"
      ],
      "execution_count": 17,
      "outputs": []
    },
    {
      "cell_type": "markdown",
      "metadata": {
        "id": "JYGAuiW5OArc"
      },
      "source": [
        "**Model Building and Training**"
      ]
    },
    {
      "cell_type": "markdown",
      "metadata": {
        "id": "H9J4_ijb03rQ"
      },
      "source": [
        "Build a model that takes the 4096-dimensional feature as input and predicts the 300-dimensional vector as output\n"
      ]
    },
    {
      "cell_type": "code",
      "metadata": {
        "id": "6B-Vp8LPMKHZ"
      },
      "source": [
        "def build_model(): \n",
        "  return nn.Sequential(\n",
        "      nn.Linear(4096, 1024), \n",
        "      nn.ReLU(inplace=True), \n",
        "      nn.BatchNorm1d(1024), \n",
        "      nn.Dropout(0.8), \n",
        "      nn.Linear(1024, 512), \n",
        "      nn.ReLU(inplace=True), \n",
        "      nn.BatchNorm1d(512), \n",
        "      nn.Dropout(0.8), \n",
        "      nn.Linear(512, 256), \n",
        "      nn.ReLU(inplace=True), \n",
        "      nn.BatchNorm1d(256), \n",
        "      nn.Dropout(0.8), \n",
        "      nn.Linear(256, 300)\n",
        ")"
      ],
      "execution_count": 18,
      "outputs": []
    },
    {
      "cell_type": "markdown",
      "metadata": {
        "id": "2j3S8pkP08qt"
      },
      "source": [
        "Functions to train and validate on a batch of data"
      ]
    },
    {
      "cell_type": "code",
      "metadata": {
        "id": "F54GYaMxMYhe"
      },
      "source": [
        "def train_batch(model, data, optimizer, criterion):\n",
        "  model.train()\n",
        "  ims, labels = data\n",
        "  _preds = model(ims)\n",
        "  optimizer.zero_grad()\n",
        "  loss = criterion(_preds, labels)\n",
        "  loss.backward() \n",
        "  optimizer.step() \n",
        "  return loss.item()\n",
        "\n",
        "@torch.no_grad()\n",
        "def validate_batch(model, data, criterion):\n",
        "  model.eval()\n",
        "  ims, labels = data\n",
        "  _preds = model(ims)\n",
        "  loss = criterion(_preds, labels) \n",
        "  \n",
        "  return loss.item()"
      ],
      "execution_count": 19,
      "outputs": []
    },
    {
      "cell_type": "markdown",
      "metadata": {
        "id": "w8aZfhaL1FMp"
      },
      "source": [
        "Train the model over increasing epochs"
      ]
    },
    {
      "cell_type": "code",
      "metadata": {
        "colab": {
          "base_uri": "https://localhost:8080/"
        },
        "id": "bAGyL6aAGO3w",
        "outputId": "c8d65e8f-d048-4c38-9608-1bf561489518"
      },
      "source": [
        "trn_dl, val_dl, x_zsl, zero_shot_clss, valid_clss, x_valid = load_data()\n",
        "model = build_model().to(device)\n",
        "\n",
        "print(model)"
      ],
      "execution_count": 20,
      "outputs": [
        {
          "output_type": "stream",
          "text": [
            "Sequential(\n",
            "  (0): Linear(in_features=4096, out_features=1024, bias=True)\n",
            "  (1): ReLU(inplace=True)\n",
            "  (2): BatchNorm1d(1024, eps=1e-05, momentum=0.1, affine=True, track_running_stats=True)\n",
            "  (3): Dropout(p=0.8, inplace=False)\n",
            "  (4): Linear(in_features=1024, out_features=512, bias=True)\n",
            "  (5): ReLU(inplace=True)\n",
            "  (6): BatchNorm1d(512, eps=1e-05, momentum=0.1, affine=True, track_running_stats=True)\n",
            "  (7): Dropout(p=0.8, inplace=False)\n",
            "  (8): Linear(in_features=512, out_features=256, bias=True)\n",
            "  (9): ReLU(inplace=True)\n",
            "  (10): BatchNorm1d(256, eps=1e-05, momentum=0.1, affine=True, track_running_stats=True)\n",
            "  (11): Dropout(p=0.8, inplace=False)\n",
            "  (12): Linear(in_features=256, out_features=300, bias=True)\n",
            ")\n"
          ],
          "name": "stdout"
        }
      ]
    },
    {
      "cell_type": "code",
      "metadata": {
        "colab": {
          "base_uri": "https://localhost:8080/"
        },
        "id": "E_LAsJygMnoi",
        "outputId": "5e9868f8-d4f4-48db-c332-209df34e1ab5"
      },
      "source": [
        "criterion = nn.MSELoss()\n",
        "optimizer = optim.Adam(model.parameters(), lr=1e-3) \n",
        "\n",
        "n_epochs = 65\n",
        "train_losses, valid_losses = [], []\n",
        "for ex in range(n_epochs):\n",
        "  N = len(trn_dl)\n",
        "  running_loss = 0 \n",
        "  for bx, data in enumerate(trn_dl):\n",
        "    batch_loss = train_batch(model, data, optimizer, criterion) \n",
        "    running_loss += batch_loss *32 \n",
        "  train_epoch_loss = running_loss / N\n",
        "  train_losses.append(train_epoch_loss)\n",
        "\n",
        "  N = len(val_dl)\n",
        "  running_loss = 0 \n",
        "  for bx, data in enumerate(val_dl):\n",
        "    batch_loss = validate_batch(model, data, criterion)\n",
        "    running_loss += batch_loss *32 \n",
        "  valid_epoch_loss = running_loss / N\n",
        "  valid_losses.append(valid_epoch_loss)\n",
        "  print(\"Epoch {} , training loss {}, valid loss {}\".format(ex+1, train_epoch_loss, valid_epoch_loss))\n",
        "\n",
        "  if ex == 10: optimizer = optim.Adam(model.parameters(), lr=1e-4) \n",
        "  if ex == 40: optimizer = optim.Adam(model.parameters(), lr=1e-5) \n"
      ],
      "execution_count": 21,
      "outputs": [
        {
          "output_type": "stream",
          "text": [
            "Epoch 1 , training loss 19.565339856113948, valid loss 0.662845143612395\n",
            "Epoch 2 , training loss 1.4551410374911964, valid loss 0.5673445767544686\n",
            "Epoch 3 , training loss 0.6340047979185767, valid loss 0.546277921250526\n",
            "Epoch 4 , training loss 0.6207953683027985, valid loss 0.5325145252207493\n",
            "Epoch 5 , training loss 0.6227790294809544, valid loss 0.5255080581979549\n",
            "Epoch 6 , training loss 0.6270552729883938, valid loss 0.5162763525830939\n",
            "Epoch 7 , training loss 0.6264367243076893, valid loss 0.5068007086185699\n",
            "Epoch 8 , training loss 0.6248871328982901, valid loss 0.5074509642225631\n",
            "Epoch 9 , training loss 0.6277740238406134, valid loss 0.489175852942974\n",
            "Epoch 10 , training loss 0.6253963801877719, valid loss 0.47342089135596094\n",
            "Epoch 11 , training loss 0.6232515539683349, valid loss 0.47058887811417277\n",
            "Epoch 12 , training loss 0.5540989081487588, valid loss 0.45064598321914673\n",
            "Epoch 13 , training loss 0.5116430113078855, valid loss 0.445829413672711\n",
            "Epoch 14 , training loss 0.4952919548707651, valid loss 0.43671619131210004\n",
            "Epoch 15 , training loss 0.48540189460659705, valid loss 0.4250278872378329\n",
            "Epoch 16 , training loss 0.4807320881819894, valid loss 0.4154895353824534\n",
            "Epoch 17 , training loss 0.4739514046104242, valid loss 0.40945832653248565\n",
            "Epoch 18 , training loss 0.46836257699533557, valid loss 0.4017696374274315\n",
            "Epoch 19 , training loss 0.46148128796976506, valid loss 0.39611659595306886\n",
            "Epoch 20 , training loss 0.45816134941493364, valid loss 0.3942087248284766\n",
            "Epoch 21 , training loss 0.45182510787713615, valid loss 0.3876095775594103\n",
            "Epoch 22 , training loss 0.4412479852953701, valid loss 0.3807835616963975\n",
            "Epoch 23 , training loss 0.4361403518957449, valid loss 0.3745130522454039\n",
            "Epoch 24 , training loss 0.4348375488680305, valid loss 0.37178380311803616\n",
            "Epoch 25 , training loss 0.427006259243539, valid loss 0.36888106959931394\n",
            "Epoch 26 , training loss 0.42763164428108974, valid loss 0.3656840996539339\n",
            "Epoch 27 , training loss 0.4207920958387091, valid loss 0.36202758423825526\n",
            "Epoch 28 , training loss 0.4129113588772767, valid loss 0.36102094675632235\n",
            "Epoch 29 , training loss 0.4119473900778074, valid loss 0.35507550835609436\n",
            "Epoch 30 , training loss 0.4091455530613027, valid loss 0.35494997970601344\n",
            "Epoch 31 , training loss 0.40169254896488593, valid loss 0.349715456049493\n",
            "Epoch 32 , training loss 0.4011974884263167, valid loss 0.34899617002365435\n",
            "Epoch 33 , training loss 0.39582121858360075, valid loss 0.3455723631889262\n",
            "Epoch 34 , training loss 0.3913079612221278, valid loss 0.3437187995048279\n",
            "Epoch 35 , training loss 0.38969607767483866, valid loss 0.3428505950785698\n",
            "Epoch 36 , training loss 0.38738835766805824, valid loss 0.3396154198240727\n",
            "Epoch 37 , training loss 0.38336635967518423, valid loss 0.3373840888763996\n",
            "Epoch 38 , training loss 0.38334152377243585, valid loss 0.33418338920207735\n",
            "Epoch 39 , training loss 0.3776426913467705, valid loss 0.3334817055692064\n",
            "Epoch 40 , training loss 0.3755866253206916, valid loss 0.3314690849882491\n",
            "Epoch 41 , training loss 0.37274547058639795, valid loss 0.3280523273539036\n",
            "Epoch 42 , training loss 0.3631245827843957, valid loss 0.3279722421727282\n",
            "Epoch 43 , training loss 0.3627904254071256, valid loss 0.32639077083861573\n",
            "Epoch 44 , training loss 0.3633801366420502, valid loss 0.32566020336556945\n",
            "Epoch 45 , training loss 0.3591067687416753, valid loss 0.3253728062548536\n",
            "Epoch 46 , training loss 0.35886530187113064, valid loss 0.3238855454515904\n",
            "Epoch 47 , training loss 0.35799735699985047, valid loss 0.32405939634810105\n",
            "Epoch 48 , training loss 0.3561541072443022, valid loss 0.3244795875346407\n",
            "Epoch 49 , training loss 0.3548597640602301, valid loss 0.3240225118525485\n",
            "Epoch 50 , training loss 0.35279955276360747, valid loss 0.3248661800901941\n",
            "Epoch 51 , training loss 0.3529871799421649, valid loss 0.32529941708483595\n",
            "Epoch 52 , training loss 0.34963890783330226, valid loss 0.32287932171466505\n",
            "Epoch 53 , training loss 0.350978174530868, valid loss 0.3214434588209112\n",
            "Epoch 54 , training loss 0.35109869068396005, valid loss 0.32234580275860236\n",
            "Epoch 55 , training loss 0.34796722962501203, valid loss 0.3228887972679544\n",
            "Epoch 56 , training loss 0.34680509905443124, valid loss 0.321418137943491\n",
            "Epoch 57 , training loss 0.3506946906130365, valid loss 0.3201865442889802\n",
            "Epoch 58 , training loss 0.34706364624889185, valid loss 0.32257597148418427\n",
            "Epoch 59 , training loss 0.34539352114318955, valid loss 0.3200863580754463\n",
            "Epoch 60 , training loss 0.3499952785089506, valid loss 0.32216354602194847\n",
            "Epoch 61 , training loss 0.34557280620784625, valid loss 0.3212691773759558\n",
            "Epoch 62 , training loss 0.34515187102006684, valid loss 0.32166135881809477\n",
            "Epoch 63 , training loss 0.34470070782282675, valid loss 0.3220440022488858\n",
            "Epoch 64 , training loss 0.34571980965052934, valid loss 0.3214992925207666\n",
            "Epoch 65 , training loss 0.34317082843036517, valid loss 0.3198824572436353\n"
          ],
          "name": "stdout"
        }
      ]
    },
    {
      "cell_type": "code",
      "metadata": {
        "colab": {
          "base_uri": "https://localhost:8080/",
          "height": 350
        },
        "id": "Qu1A5F4Ftd4S",
        "outputId": "5b778b51-3295-4e17-f6a9-141880a70175"
      },
      "source": [
        "import matplotlib.pyplot as plt\n",
        "epochs = np.arange(n_epochs)+1\n",
        "plt.figure(figsize=(20,5))\n",
        "plt.subplot(121)\n",
        "plt.title('Loss value over increasing epochs') \n",
        "plt.plot(epochs, train_losses, label='Training Loss') \n",
        "plt.plot(epochs, valid_losses, label='Validation Loss', linestyle='dashed') \n",
        "plt.xlabel(\"Epoch\")\n",
        "plt.ylabel(\"Loss\")\n",
        "plt.ylim(0, 2.5)\n",
        "plt.legend();"
      ],
      "execution_count": 22,
      "outputs": [
        {
          "output_type": "display_data",
          "data": {
            "image/png": "[encoded data removed]",
            "text/plain": [
              "<Figure size 1440x360 with 1 Axes>"
            ]
          },
          "metadata": {
            "tags": [],
            "needs_background": "light"
          }
        }
      ]
    },
    {
      "cell_type": "markdown",
      "metadata": {
        "id": "2lvF9aYEN0lj"
      },
      "source": [
        "**Model Evaluation**"
      ]
    },
    {
      "cell_type": "markdown",
      "metadata": {
        "id": "n4flzHpt1MHd"
      },
      "source": [
        "Predict on images that contain the zero-shot classes (classes which the model has not seen) and also fetch the actual features and classnames corresponding to the zero-shot classes"
      ]
    },
    {
      "cell_type": "code",
      "metadata": {
        "id": "8JRcKEOFNDnu"
      },
      "source": [
        "pred_zsl = model(torch.Tensor(x_zsl).to(device)).cpu().detach().numpy()\n",
        "\n",
        "class_vectors = sorted(np.load(WORD2VECPATH, allow_pickle=True), key=lambda x: x[0])\n",
        "classnames, vectors = zip(*class_vectors)\n",
        "classnames = list(classnames)\n",
        "\n",
        "vectors = np.array(vectors)"
      ],
      "execution_count": 23,
      "outputs": []
    },
    {
      "cell_type": "markdown",
      "metadata": {
        "id": "yVCqiKhl1PNZ"
      },
      "source": [
        "Calculate the distance between each predicted vector and the vector corresponding to the available classes and measure the number of zero-shot classes present in the top 5 predictions"
      ]
    },
    {
      "cell_type": "code",
      "metadata": {
        "colab": {
          "base_uri": "https://localhost:8080/"
        },
        "id": "TOV51JrW1PgS",
        "outputId": "8ce979f4-bfe6-495d-b6af-52ddbc945669"
      },
      "source": [
        "dists = (pred_zsl[None] - vectors[:,None]) \n",
        "dists = (dists**2).sum(-1).T\n",
        "\n",
        "best_classes = []\n",
        "for item in dists:\n",
        "  best_classes.append([classnames[j] for j in np.argsort(item)[:5]])\n",
        "\n",
        "np.mean([i in J for i,J in zip(zero_shot_clss, best_classes)])"
      ],
      "execution_count": 24,
      "outputs": [
        {
          "output_type": "execute_result",
          "data": {
            "text/plain": [
              "0.775887943971986"
            ]
          },
          "metadata": {
            "tags": []
          },
          "execution_count": 24
        }
      ]
    },
    {
      "cell_type": "markdown",
      "metadata": {
        "id": "f2Onv0EYyckM"
      },
      "source": [
        "We can predict correctly for ~78% of the images that contain an object whose class is not present during training, in the top 5 predictions of the model.\n",
        "Note that the percentage of correctly classified images will be 6%, 14%, and 40% for top 1,2,3 predictions, respectively"
      ]
    },
    {
      "cell_type": "code",
      "metadata": {
        "id": "tmV3aF8K-zCf"
      },
      "source": [
        ""
      ],
      "execution_count": null,
      "outputs": []
    }
  ]
}