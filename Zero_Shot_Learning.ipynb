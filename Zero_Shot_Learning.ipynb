{
  "nbformat": 4,
  "nbformat_minor": 0,
  "metadata": {
    "accelerator": "GPU",
    "colab": {
      "name": "Zero_Shot_Learning.ipynb",
      "provenance": [],
      "collapsed_sections": [],
      "authorship_tag": "ABX9TyPkdYgT56AwTpUZ0VjiQV8r",
      "include_colab_link": true
    },
    "kernelspec": {
      "display_name": "Python 3",
      "name": "python3"
    }
  },
  "cells": [
    {
      "cell_type": "markdown",
      "metadata": {
        "id": "view-in-github",
        "colab_type": "text"
      },
      "source": [
        "<a href=\"https://colab.research.google.com/github/kiran74-ds/zero_shot_learning/blob/main/Zero_Shot_Learning.ipynb\" target=\"_parent\"><img src=\"https://colab.research.google.com/assets/colab-badge.svg\" alt=\"Open In Colab\"/></a>"
      ]
    },
    {
      "cell_type": "markdown",
      "metadata": {
        "id": "VCaSnVCnyvSp"
      },
      "source": [
        "#### Zero shot learning aims to solve a task to identify classes that are not seen by the model during training.\n",
        "\n",
        "#### For example, let’s say you have seen a horse but never seen a zebra. If I tell you that a zebra looks like a horse but it has black and white stripes, you will probably immediately recognize a zebra when you see it.\n",
        "\n",
        "#### This is what zero-shot learning aims to tackle."
      ]
    },
    {
      "cell_type": "markdown",
      "metadata": {
        "id": "1UNyYMSNyqjM"
      },
      "source": [
        "#### The high-level strategy we adopt while coding up Zero-shot learning is:\n",
        "1. Import dataset- which constitutes training images and their corresponding class labels\n",
        "2. Fetch the word vectors corresponding to each class from pre-trained word vector models.\n",
        "3. Pass the image through a pre-trained image model like VGG16 and obtain image embedding.\n",
        "4. We expect the network to predict the word vector corresponding to the object in the image.\n",
        "5. Once we train the model, predict word vector on new images.\n",
        "6. The class of word vector that is closest to the predicted word vector is the class of image."
      ]
    },
    {
      "cell_type": "markdown",
      "metadata": {
        "id": "_dB5QoPs3Mp1"
      },
      "source": [
        "<img src=\"https://www.learnopencv.com/wp-content/uploads/2020/06/zero-shot-learning-embedding-based-methods.png\">\n"
      ]
    },
    {
      "cell_type": "markdown",
      "metadata": {
        "id": "rnTT45vzESbF"
      },
      "source": [
        "**Train Classes**:\n",
        "arm, boy, bread, chicken, child, computer, ear, house, leg, sandwich, television, truck, vehicle, watch, woman\n",
        "\n",
        "**Zero-Shot Classes**:\n",
        "car, food, hand, man, neck\n"
      ]
    },
    {
      "cell_type": "code",
      "metadata": {
        "colab": {
          "base_uri": "https://localhost:8080/"
        },
        "id": "41fwAHbCyx9p",
        "outputId": "0d82eb91-87f2-46ac-e6f4-cac8dc8a737a"
      },
      "source": [
        "!git clone https://github.com/kiran74-ds/zsl.git"
      ],
      "execution_count": 1,
      "outputs": [
        {
          "output_type": "stream",
          "text": [
            "Cloning into 'zsl'...\n",
            "remote: Enumerating objects: 123, done.\u001b[K\n",
            "remote: Counting objects: 100% (123/123), done.\u001b[K\n",
            "remote: Compressing objects: 100% (110/110), done.\u001b[K\n",
            "remote: Total 123 (delta 57), reused 37 (delta 7), pack-reused 0\u001b[K\n",
            "Receiving objects: 100% (123/123), 42.19 MiB | 16.32 MiB/s, done.\n",
            "Resolving deltas: 100% (57/57), done.\n"
          ],
          "name": "stdout"
        }
      ]
    },
    {
      "cell_type": "markdown",
      "metadata": {
        "id": "aZGM7nZ8OeAm"
      },
      "source": [
        "**Import Libraries**"
      ]
    },
    {
      "cell_type": "code",
      "metadata": {
        "colab": {
          "base_uri": "https://localhost:8080/"
        },
        "id": "bNQF1nB-KQ4F",
        "outputId": "66ebc9d0-b51b-4d6a-9d19-1469a73b4697"
      },
      "source": [
        "%cd zsl\n",
        "import gzip\n",
        "import _pickle as cPickle\n",
        "import numpy as np\n",
        "import torch\n",
        "import torch.nn as nn\n",
        "import torch.optim as optim\n",
        "from sklearn.preprocessing import LabelEncoder, normalize \n",
        "from torch.utils.data import TensorDataset, DataLoader\n",
        "\n",
        "device = 'cuda' if torch.cuda.is_available() else 'cpu'"
      ],
      "execution_count": 2,
      "outputs": [
        {
          "output_type": "stream",
          "text": [
            "/content/zsl\n"
          ],
          "name": "stdout"
        }
      ]
    },
    {
      "cell_type": "markdown",
      "metadata": {
        "id": "kXXBJn0-PM2H"
      },
      "source": [
        "#### Image Embeddings\n",
        "\n",
        "Then, image features are extracted from these cropped images using a pre-trained model, VGG16 in our case . Feature extractor class can be seen below."
      ]
    },
    {
      "cell_type": "code",
      "metadata": {
        "id": "E9Yc0ZlzPK7t"
      },
      "source": [
        "DATAPATH = \"data/zeroshot_data.pkl\""
      ],
      "execution_count": 14,
      "outputs": []
    },
    {
      "cell_type": "markdown",
      "metadata": {
        "id": "s1Jhw5jVPQuN"
      },
      "source": [
        "#### Class Embeddings\n",
        "\n",
        "Class embedding is the vector representation of a class (class label)\n",
        "\n",
        "After we have extracted the image features and formed the datasets, now we should gather the other representations of classes, word embeddings namely. We will use Google Word2Vec representation trained on Google News documents. We will get a Wor2Vec of 300 dimensions for each of the 20 object classes we have specified"
      ]
    },
    {
      "cell_type": "code",
      "metadata": {
        "id": "p2alIvVRLFEI"
      },
      "source": [
        "WORD2VECPATH = \"data/class_vectors.npy\" "
      ],
      "execution_count": 15,
      "outputs": []
    },
    {
      "cell_type": "code",
      "metadata": {
        "id": "zJ2pZx7xLYJ7",
        "colab": {
          "base_uri": "https://localhost:8080/"
        },
        "outputId": "9c4041a4-82ba-4852-bcbc-59e318815446"
      },
      "source": [
        "with open('data/train_classes.txt', 'r') as infile: \n",
        "  train_classes = [str.strip(line) for line in infile]\n",
        "train_classes"
      ],
      "execution_count": 16,
      "outputs": [
        {
          "output_type": "execute_result",
          "data": {
            "text/plain": [
              "['arm',\n",
              " 'boy',\n",
              " 'bread',\n",
              " 'chicken',\n",
              " 'child',\n",
              " 'computer',\n",
              " 'ear',\n",
              " 'house',\n",
              " 'leg',\n",
              " 'sandwich',\n",
              " 'television',\n",
              " 'truck',\n",
              " 'vehicle',\n",
              " 'watch',\n",
              " 'woman']"
            ]
          },
          "metadata": {
            "tags": []
          },
          "execution_count": 16
        }
      ]
    },
    {
      "cell_type": "code",
      "metadata": {
        "colab": {
          "base_uri": "https://localhost:8080/"
        },
        "id": "0xw-87IF9tBH",
        "outputId": "47590b9c-bca1-4b69-9fdc-9f3e51bb91bb"
      },
      "source": [
        "with open('data/zsl_classes.txt', 'r') as infile: \n",
        "  zsl_classes = [str.strip(line) for line in infile]\n",
        "zsl_classes"
      ],
      "execution_count": 17,
      "outputs": [
        {
          "output_type": "execute_result",
          "data": {
            "text/plain": [
              "['car', 'food', 'hand', 'man', 'neck']"
            ]
          },
          "metadata": {
            "tags": []
          },
          "execution_count": 17
        }
      ]
    },
    {
      "cell_type": "markdown",
      "metadata": {
        "id": "P3aVD_HBOnpm"
      },
      "source": [
        "**Load the Data** "
      ]
    },
    {
      "cell_type": "code",
      "metadata": {
        "id": "BVk543MaLb1q"
      },
      "source": [
        "def load_data():\n",
        "  # Load the feature vector data\n",
        "  with gzip.GzipFile(DATAPATH, 'rb') as infile: \n",
        "    data = cPickle.load(infile)\n",
        "\n",
        "  # Define the training classes and the classes that belong to zero-shot. \n",
        "  # Note that, we will only show the classes belonging to training classes and hide the zero-shot model classes until the inference time\n",
        "\n",
        "  training_data = [instance for instance in data if instance[0] in train_classes]\n",
        "  zero_shot_data = [instance for instance in data if instance[0] not in train_classes]\n",
        "  np.random.shuffle(training_data)\n",
        "\n",
        "  # Fetch 300 training images per class for training and the remaining training class images into validation\n",
        "  train_size = 300 # per class\n",
        "  train_data, valid_data = [], [] \n",
        "  for class_label in train_classes:\n",
        "    ctr = 0\n",
        "    for instance in training_data:\n",
        "      if instance[0] == class_label:\n",
        "        if ctr < train_size:\n",
        "            train_data.append(instance)\n",
        "            ctr+=1 \n",
        "        else:\n",
        "            valid_data.append(instance)\n",
        "\n",
        "  # Shuffle the training and validation data and fetch the vectors corresponding to the classes into a dictionary \n",
        "  np.random.shuffle(train_data)\n",
        "  np.random.shuffle(valid_data)\n",
        "  vectors = {i:j for i,j in np.load(WORD2VECPATH, allow_pickle=True)}\n",
        "\n",
        "  # Fetch the training, validation, and zero-shot classes\n",
        "  train_clss = [clss for clss,feat in train_data] \n",
        "  valid_clss = [clss for clss,feat in valid_data] \n",
        "  zero_shot_clss = [clss for clss,feat in zero_shot_data]\n",
        "\n",
        "  # Fetch the image and word embedding features for training and validation data\n",
        "  train_data = [(feat, vectors[clss]) for clss,feat in train_data] \n",
        "  valid_data = [(feat, vectors[clss]) for clss,feat in valid_data]\n",
        "\n",
        "  # Define the input and output arrays of training data, validation data, and zero- shot data\n",
        "  x_train, y_train = zip(*train_data)\n",
        "  x_train, y_train = np.squeeze(np.asarray(x_train)), np.squeeze(np.asarray(y_train))\n",
        "  x_train = normalize(x_train, norm='l2')\n",
        "\n",
        "  x_valid, y_valid = zip(*valid_data)\n",
        "  x_valid, y_valid = np.squeeze(np.asarray(x_valid)), np.squeeze(np.asarray(y_valid))\n",
        "  x_valid = normalize(x_valid, norm='l2')\n",
        "\n",
        "  y_zsl, x_zsl = zip(*zero_shot_data)\n",
        "  x_zsl, y_zsl = np.squeeze(np.asarray(x_zsl)), np.squeeze(np.asarray(y_zsl))\n",
        "  x_zsl = normalize(x_zsl, norm='l2')\n",
        "\n",
        "  # Define the training and validation datasets and dataloaders\n",
        "  trn_ds = TensorDataset(*[torch.Tensor(t).to(device) for t in [x_train, y_train]])\n",
        "  val_ds = TensorDataset(*[torch.Tensor(t).to(device) for t in [x_valid, y_valid]])\n",
        "\n",
        "  trn_dl = DataLoader(trn_ds, batch_size=32, shuffle=True) \n",
        "  val_dl = DataLoader(val_ds, batch_size=32, shuffle=False)\n",
        "\n",
        "  return trn_dl, val_dl, x_zsl, zero_shot_clss, valid_clss, x_valid"
      ],
      "execution_count": 18,
      "outputs": []
    },
    {
      "cell_type": "markdown",
      "metadata": {
        "id": "JYGAuiW5OArc"
      },
      "source": [
        "**Model Building and Training**"
      ]
    },
    {
      "cell_type": "markdown",
      "metadata": {
        "id": "H9J4_ijb03rQ"
      },
      "source": [
        "Build a model that takes the 4096-dimensional feature as input and predicts the 300-dimensional vector as output\n"
      ]
    },
    {
      "cell_type": "code",
      "metadata": {
        "id": "6B-Vp8LPMKHZ"
      },
      "source": [
        "def build_model(): \n",
        "  return nn.Sequential(\n",
        "      nn.Linear(4096, 1024), \n",
        "      nn.ReLU(inplace=True), \n",
        "      nn.BatchNorm1d(1024), \n",
        "      nn.Dropout(0.8), \n",
        "      nn.Linear(1024, 512), \n",
        "      nn.ReLU(inplace=True), \n",
        "      nn.BatchNorm1d(512), \n",
        "      nn.Dropout(0.8), \n",
        "      nn.Linear(512, 256), \n",
        "      nn.ReLU(inplace=True), \n",
        "      nn.BatchNorm1d(256), \n",
        "      nn.Dropout(0.8), \n",
        "      nn.Linear(256, 300)\n",
        ")"
      ],
      "execution_count": 19,
      "outputs": []
    },
    {
      "cell_type": "markdown",
      "metadata": {
        "id": "2j3S8pkP08qt"
      },
      "source": [
        "Functions to train and validate on a batch of data"
      ]
    },
    {
      "cell_type": "code",
      "metadata": {
        "id": "F54GYaMxMYhe"
      },
      "source": [
        "def train_batch(model, data, optimizer, criterion):\n",
        "  model.train()\n",
        "  ims, labels = data\n",
        "  _preds = model(ims)\n",
        "  optimizer.zero_grad()\n",
        "  loss = criterion(_preds, labels)\n",
        "  loss.backward() \n",
        "  optimizer.step() \n",
        "  return loss.item()\n",
        "\n",
        "@torch.no_grad()\n",
        "def validate_batch(model, data, criterion):\n",
        "  model.eval()\n",
        "  ims, labels = data\n",
        "  _preds = model(ims)\n",
        "  loss = criterion(_preds, labels) \n",
        "  \n",
        "  return loss.item()"
      ],
      "execution_count": 20,
      "outputs": []
    },
    {
      "cell_type": "markdown",
      "metadata": {
        "id": "w8aZfhaL1FMp"
      },
      "source": [
        "Train the model over increasing epochs"
      ]
    },
    {
      "cell_type": "code",
      "metadata": {
        "colab": {
          "base_uri": "https://localhost:8080/"
        },
        "id": "bAGyL6aAGO3w",
        "outputId": "a255f80b-9413-4173-9b23-350bcbd3f251"
      },
      "source": [
        "trn_dl, val_dl, x_zsl, zero_shot_clss, valid_clss, x_valid = load_data()\n",
        "model = build_model().to(device)\n",
        "\n",
        "print(model)"
      ],
      "execution_count": 21,
      "outputs": [
        {
          "output_type": "stream",
          "text": [
            "Sequential(\n",
            "  (0): Linear(in_features=4096, out_features=1024, bias=True)\n",
            "  (1): ReLU(inplace=True)\n",
            "  (2): BatchNorm1d(1024, eps=1e-05, momentum=0.1, affine=True, track_running_stats=True)\n",
            "  (3): Dropout(p=0.8, inplace=False)\n",
            "  (4): Linear(in_features=1024, out_features=512, bias=True)\n",
            "  (5): ReLU(inplace=True)\n",
            "  (6): BatchNorm1d(512, eps=1e-05, momentum=0.1, affine=True, track_running_stats=True)\n",
            "  (7): Dropout(p=0.8, inplace=False)\n",
            "  (8): Linear(in_features=512, out_features=256, bias=True)\n",
            "  (9): ReLU(inplace=True)\n",
            "  (10): BatchNorm1d(256, eps=1e-05, momentum=0.1, affine=True, track_running_stats=True)\n",
            "  (11): Dropout(p=0.8, inplace=False)\n",
            "  (12): Linear(in_features=256, out_features=300, bias=True)\n",
            ")\n"
          ],
          "name": "stdout"
        }
      ]
    },
    {
      "cell_type": "code",
      "metadata": {
        "colab": {
          "base_uri": "https://localhost:8080/"
        },
        "id": "E_LAsJygMnoi",
        "outputId": "8dc1fbd9-fcf2-4d2d-fbc5-84996372b3aa"
      },
      "source": [
        "criterion = nn.MSELoss()\n",
        "optimizer = optim.Adam(model.parameters(), lr=1e-3) \n",
        "\n",
        "n_epochs = 65\n",
        "train_losses, valid_losses = [], []\n",
        "for ex in range(n_epochs):\n",
        "  N = len(trn_dl)\n",
        "  running_loss = 0 \n",
        "  for bx, data in enumerate(trn_dl):\n",
        "    batch_loss = train_batch(model, data, optimizer, criterion) \n",
        "    running_loss += batch_loss *32 \n",
        "  train_epoch_loss = running_loss / N\n",
        "  train_losses.append(train_epoch_loss)\n",
        "\n",
        "  N = len(val_dl)\n",
        "  running_loss = 0 \n",
        "  for bx, data in enumerate(val_dl):\n",
        "    batch_loss = validate_batch(model, data, criterion)\n",
        "    running_loss += batch_loss *32 \n",
        "  valid_epoch_loss = running_loss / N\n",
        "  valid_losses.append(valid_epoch_loss)\n",
        "  print(\"Epoch {} , training loss {}, valid loss {}\".format(ex+1, train_epoch_loss, valid_epoch_loss))\n",
        "\n",
        "  if ex == 10: optimizer = optim.Adam(model.parameters(), lr=1e-4) \n",
        "  if ex == 40: optimizer = optim.Adam(model.parameters(), lr=1e-5) \n"
      ],
      "execution_count": 22,
      "outputs": [
        {
          "output_type": "stream",
          "text": [
            "Epoch 1 , training loss 19.311561143144647, valid loss 0.659882977921912\n",
            "Epoch 2 , training loss 1.4065709143665666, valid loss 0.5578956363048959\n",
            "Epoch 3 , training loss 0.6302999503223609, valid loss 0.5477650343103612\n",
            "Epoch 4 , training loss 0.6177237215617024, valid loss 0.5314818081703592\n",
            "Epoch 5 , training loss 0.6219183536286049, valid loss 0.5236650318541425\n",
            "Epoch 6 , training loss 0.624090904462422, valid loss 0.5101646108830229\n",
            "Epoch 7 , training loss 0.6216274816939171, valid loss 0.5001975716428554\n",
            "Epoch 8 , training loss 0.6266054320842662, valid loss 0.4896337218741153\n",
            "Epoch 9 , training loss 0.6282388580606338, valid loss 0.47958982624906177\n",
            "Epoch 10 , training loss 0.6251335177861207, valid loss 0.4750259861033014\n",
            "Epoch 11 , training loss 0.6226986739652377, valid loss 0.4747326608667982\n",
            "Epoch 12 , training loss 0.5585177912779734, valid loss 0.44596682710850494\n",
            "Epoch 13 , training loss 0.512433076158483, valid loss 0.43887081869105077\n",
            "Epoch 14 , training loss 0.5002666164374521, valid loss 0.430250846325083\n",
            "Epoch 15 , training loss 0.49246996662295456, valid loss 0.41977835969722016\n",
            "Epoch 16 , training loss 0.48681614817457, valid loss 0.4134149304095735\n",
            "Epoch 17 , training loss 0.47842916719456935, valid loss 0.40423828997510547\n",
            "Epoch 18 , training loss 0.4735184185048367, valid loss 0.40051797285993046\n",
            "Epoch 19 , training loss 0.4640091044682983, valid loss 0.39112069758963075\n",
            "Epoch 20 , training loss 0.4593774839073208, valid loss 0.3793258933310813\n",
            "Epoch 21 , training loss 0.4528514985919844, valid loss 0.376566747401623\n",
            "Epoch 22 , training loss 0.44992607113317395, valid loss 0.37569385196300265\n",
            "Epoch 23 , training loss 0.4400970348229645, valid loss 0.36857916065987123\n",
            "Epoch 24 , training loss 0.4380842586781116, valid loss 0.36425824114616884\n",
            "Epoch 25 , training loss 0.43171048967550835, valid loss 0.35983246374637523\n",
            "Epoch 26 , training loss 0.42460738724850594, valid loss 0.3546599568204677\n",
            "Epoch 27 , training loss 0.4210367128781393, valid loss 0.3520432450669877\n",
            "Epoch 28 , training loss 0.4200616658579373, valid loss 0.34827026027314206\n",
            "Epoch 29 , training loss 0.4184986885557783, valid loss 0.34829296266778986\n",
            "Epoch 30 , training loss 0.41422459419737473, valid loss 0.3475293770749518\n",
            "Epoch 31 , training loss 0.40556179737368375, valid loss 0.34252322417624453\n",
            "Epoch 32 , training loss 0.40745991827748346, valid loss 0.3418558918415232\n",
            "Epoch 33 , training loss 0.40094454681619685, valid loss 0.3383247712825207\n",
            "Epoch 34 , training loss 0.39673696743681075, valid loss 0.3349070174896971\n",
            "Epoch 35 , training loss 0.39493406495303973, valid loss 0.33151802357206955\n",
            "Epoch 36 , training loss 0.3913333978213317, valid loss 0.3335572145086654\n",
            "Epoch 37 , training loss 0.3859322356416824, valid loss 0.33358028531074524\n",
            "Epoch 38 , training loss 0.38266586073746917, valid loss 0.32783179746029223\n",
            "Epoch 39 , training loss 0.3809198111507064, valid loss 0.32711520156961804\n",
            "Epoch 40 , training loss 0.38361581589313265, valid loss 0.3248378317406837\n",
            "Epoch 41 , training loss 0.3786682805693741, valid loss 0.32567039354050414\n",
            "Epoch 42 , training loss 0.3697171786152725, valid loss 0.3223985994749881\n",
            "Epoch 43 , training loss 0.3661091186053364, valid loss 0.32278796681698335\n",
            "Epoch 44 , training loss 0.3646106719970703, valid loss 0.320732315170004\n",
            "Epoch 45 , training loss 0.3603122722595296, valid loss 0.320200004159136\n",
            "Epoch 46 , training loss 0.3636003115498428, valid loss 0.3221315193049451\n",
            "Epoch 47 , training loss 0.35714280224860984, valid loss 0.3228697421702933\n",
            "Epoch 48 , training loss 0.3573434179556285, valid loss 0.3193499011562226\n",
            "Epoch 49 , training loss 0.35752117781774373, valid loss 0.3217323362193209\n",
            "Epoch 50 , training loss 0.3565781805532198, valid loss 0.31890341163949765\n",
            "Epoch 51 , training loss 0.35471892399145355, valid loss 0.31938904904304666\n",
            "Epoch 52 , training loss 0.35821025549097263, valid loss 0.3193866661254396\n",
            "Epoch 53 , training loss 0.3521395589865691, valid loss 0.31816790839459036\n",
            "Epoch 54 , training loss 0.35711109215486136, valid loss 0.31806409866251845\n",
            "Epoch 55 , training loss 0.351064274919794, valid loss 0.316380168529267\n",
            "Epoch 56 , training loss 0.34937612638405874, valid loss 0.3176850635320582\n",
            "Epoch 57 , training loss 0.35090748912899206, valid loss 0.3189462239437915\n",
            "Epoch 58 , training loss 0.3537951354862105, valid loss 0.317217821770526\n",
            "Epoch 59 , training loss 0.3502241180720904, valid loss 0.31674455201372187\n",
            "Epoch 60 , training loss 0.34791860555080656, valid loss 0.31657096458242295\n",
            "Epoch 61 , training loss 0.3470566036007928, valid loss 0.31842844980828305\n",
            "Epoch 62 , training loss 0.3484671179284441, valid loss 0.3181018803982025\n",
            "Epoch 63 , training loss 0.3475343730855495, valid loss 0.317698283715451\n",
            "Epoch 64 , training loss 0.34520420643454747, valid loss 0.31890157911371675\n",
            "Epoch 65 , training loss 0.34702834465824967, valid loss 0.3155407131986415\n"
          ],
          "name": "stdout"
        }
      ]
    },
    {
      "cell_type": "code",
      "metadata": {
        "colab": {
          "base_uri": "https://localhost:8080/",
          "height": 350
        },
        "id": "Qu1A5F4Ftd4S",
        "outputId": "a882412a-a159-4c10-b14c-0cfc81aabca8"
      },
      "source": [
        "import matplotlib.pyplot as plt\n",
        "epochs = np.arange(n_epochs)+1\n",
        "plt.figure(figsize=(20,5))\n",
        "plt.subplot(121)\n",
        "plt.title('Loss value over increasing epochs') \n",
        "plt.plot(epochs, train_losses, label='Training Loss') \n",
        "plt.plot(epochs, valid_losses, label='Validation Loss', linestyle='dashed') \n",
        "plt.xlabel(\"Epoch\")\n",
        "plt.ylabel(\"Loss\")\n",
        "plt.ylim(0, 2.5)\n",
        "plt.legend();"
      ],
      "execution_count": 23,
      "outputs": [
        {
          "output_type": "display_data",
          "data": {
            "image/png": "[encoded data removed]",
            "text/plain": [
              "<Figure size 1440x360 with 1 Axes>"
            ]
          },
          "metadata": {
            "tags": [],
            "needs_background": "light"
          }
        }
      ]
    },
    {
      "cell_type": "markdown",
      "metadata": {
        "id": "2lvF9aYEN0lj"
      },
      "source": [
        "**Model Evaluation**"
      ]
    },
    {
      "cell_type": "markdown",
      "metadata": {
        "id": "n4flzHpt1MHd"
      },
      "source": [
        "Predict on images that contain the zero-shot classes (classes which the model has not seen) and also fetch the actual features and classnames corresponding to the zero-shot classes"
      ]
    },
    {
      "cell_type": "code",
      "metadata": {
        "id": "8JRcKEOFNDnu"
      },
      "source": [
        "pred_zsl = model(torch.Tensor(x_zsl).to(device)).cpu().detach().numpy()\n",
        "\n",
        "class_vectors = sorted(np.load(WORD2VECPATH, allow_pickle=True), key=lambda x: x[0])\n",
        "classnames, vectors = zip(*class_vectors)\n",
        "classnames = list(classnames)\n",
        "\n",
        "vectors = np.array(vectors)"
      ],
      "execution_count": 24,
      "outputs": []
    },
    {
      "cell_type": "markdown",
      "metadata": {
        "id": "yVCqiKhl1PNZ"
      },
      "source": [
        "Calculate the distance between each predicted vector and the vector corresponding to the available classes and measure the number of zero-shot classes present in the top 5 predictions"
      ]
    },
    {
      "cell_type": "code",
      "metadata": {
        "colab": {
          "base_uri": "https://localhost:8080/"
        },
        "id": "TOV51JrW1PgS",
        "outputId": "61c61e1f-788e-4e76-a1f3-8162713d9976"
      },
      "source": [
        "dists = (pred_zsl[None] - vectors[:,None]) \n",
        "dists = (dists**2).sum(-1).T\n",
        "\n",
        "best_classes_5 = []\n",
        "best_classes_3 = []\n",
        "best_classes_2 = []\n",
        "best_classes_1 = []\n",
        "for item in dists:\n",
        "  best_classes_5.append([classnames[j] for j in np.argsort(item)[:5]])\n",
        "  best_classes_3.append([classnames[j] for j in np.argsort(item)[:3]])\n",
        "  best_classes_2.append([classnames[j] for j in np.argsort(item)[:2]])\n",
        "  best_classes_1.append([classnames[j] for j in np.argsort(item)[:1]])\n",
        "\n",
        "top5 = np.mean([i in J for i,J in zip(zero_shot_clss, best_classes_5)])\n",
        "top3 = np.mean([i in J for i,J in zip(zero_shot_clss, best_classes_3)])\n",
        "top2 = np.mean([i in J for i,J in zip(zero_shot_clss, best_classes_2)])\n",
        "top1 = np.mean([i in J for i,J in zip(zero_shot_clss, best_classes_1)])\n",
        "\n",
        "\n",
        "\n",
        "print(\"Top 5 Accuracy : \",top5)\n",
        "print(\"Top 3 Accuracy : \",top3)\n",
        "print(\"Top 2 Accuracy : \",top2)\n",
        "print(\"Top 1 Accuracy : \",top1)"
      ],
      "execution_count": 30,
      "outputs": [
        {
          "output_type": "stream",
          "text": [
            "Top 5 Accuracy :  0.7743871935967984\n",
            "Top 3 Accuracy :  0.38969484742371185\n",
            "Top 2 Accuracy :  0.15107553776888444\n",
            "Top 1 Accuracy :  0.05102551275637819\n"
          ],
          "name": "stdout"
        }
      ]
    },
    {
      "cell_type": "markdown",
      "metadata": {
        "id": "f2Onv0EYyckM"
      },
      "source": [
        "We can predict correctly for ~78% of the images that contain an object whose class is not present during training, in the top 5 predictions of the model.\n",
        "Note that the percentage of correctly classified images will be 6%, 14%, and 40% for top 1,2,3 predictions, respectively"
      ]
    }
  ]
}