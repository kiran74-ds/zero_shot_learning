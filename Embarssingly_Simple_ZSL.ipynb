{
  "nbformat": 4,
  "nbformat_minor": 0,
  "metadata": {
    "colab": {
      "name": "Embarssingly Simple ZSL.ipynb",
      "provenance": [],
      "collapsed_sections": [],
      "authorship_tag": "ABX9TyOgLUkpJq0vOcNi8Ib+lgX/",
      "include_colab_link": true
    },
    "kernelspec": {
      "name": "python3",
      "display_name": "Python 3"
    }
  },
  "cells": [
    {
      "cell_type": "markdown",
      "metadata": {
        "id": "view-in-github",
        "colab_type": "text"
      },
      "source": [
        "<a href=\"https://colab.research.google.com/github/kiran74-ds/zsl/blob/main/Embarssingly_Simple_ZSL.ipynb\" target=\"_parent\"><img src=\"https://colab.research.google.com/assets/colab-badge.svg\" alt=\"Open In Colab\"/></a>"
      ]
    },
    {
      "cell_type": "code",
      "metadata": {
        "colab": {
          "base_uri": "https://localhost:8080/"
        },
        "id": "NJnY0uoYC-c_",
        "outputId": "9867b93a-f80e-4244-92e2-8ac8693f54d9"
      },
      "source": [
        "!wget http://datasets.d2.mpi-inf.mpg.de/xian/xlsa17.zip"
      ],
      "execution_count": 1,
      "outputs": [
        {
          "output_type": "stream",
          "text": [
            "--2020-11-23 03:01:58--  http://datasets.d2.mpi-inf.mpg.de/xian/xlsa17.zip\n",
            "Resolving datasets.d2.mpi-inf.mpg.de (datasets.d2.mpi-inf.mpg.de)... 139.19.206.177\n",
            "Connecting to datasets.d2.mpi-inf.mpg.de (datasets.d2.mpi-inf.mpg.de)|139.19.206.177|:80... connected.\n",
            "HTTP request sent, awaiting response... 302 Found\n",
            "Location: https://datasets.d2.mpi-inf.mpg.de/xian/xlsa17.zip [following]\n",
            "--2020-11-23 03:01:58--  https://datasets.d2.mpi-inf.mpg.de/xian/xlsa17.zip\n",
            "Connecting to datasets.d2.mpi-inf.mpg.de (datasets.d2.mpi-inf.mpg.de)|139.19.206.177|:443... connected.\n",
            "HTTP request sent, awaiting response... 200 OK\n",
            "Length: 921803497 (879M) [application/zip]\n",
            "Saving to: ‘xlsa17.zip’\n",
            "\n",
            "xlsa17.zip          100%[===================>] 879.10M   103MB/s    in 23s     \n",
            "\n",
            "2020-11-23 03:02:21 (38.7 MB/s) - ‘xlsa17.zip’ saved [921803497/921803497]\n",
            "\n"
          ],
          "name": "stdout"
        }
      ]
    },
    {
      "cell_type": "markdown",
      "metadata": {
        "id": "vcCtE0HpIERE"
      },
      "source": [
        "An embarrassingly simple approach to ZSL\n",
        "\n",
        "The framework described with this approach is that of 2 layers which is built upon creating relationships between features, attributes and classes with the help of a linear model.\n",
        "\n",
        "The first layer helps in defining the relationship between features and attributes with the help of weights in that layer.\n",
        "\n",
        "The second layer deals with modelling the relationship between attributes and classes where the prescribed attribute signatures is fixed.\n",
        "\n",
        "<img src=\"https://iq.opengenus.org/content/images/2020/01/Screenshot-from-2020-01-27-00-56-44.png\">"
      ]
    },
    {
      "cell_type": "code",
      "metadata": {
        "id": "ON2w-sBnDNNb"
      },
      "source": [
        "!unzip xlsa17.zip"
      ],
      "execution_count": null,
      "outputs": []
    },
    {
      "cell_type": "code",
      "metadata": {
        "id": "U4D7xuZNDnn0"
      },
      "source": [
        "import numpy as np\n",
        "import os\n",
        "import scipy.io\n",
        "from sklearn.metrics import classification_report,confusion_matrix"
      ],
      "execution_count": 3,
      "outputs": []
    },
    {
      "cell_type": "code",
      "metadata": {
        "id": "vE_WRYgkwbPB"
      },
      "source": [
        ""
      ],
      "execution_count": null,
      "outputs": []
    },
    {
      "cell_type": "markdown",
      "metadata": {
        "id": "c5cF4v9Owbmk"
      },
      "source": [
        "Choose the one of the datasets from the options(APY, AWA1, AWA2, SUN, CUB).\n",
        "I have selected AWA2(Animal with attributes data set) to implement model.\n",
        "\n",
        "+ res101 contains Image Features extracted using resnet model.\n",
        "+ att_splits contains splitting criteria for trian and test data along with class names information"
      ]
    },
    {
      "cell_type": "code",
      "metadata": {
        "id": "sc6Or1KHDyEn"
      },
      "source": [
        "dataset = 'AWA2'\n",
        "res101 = scipy.io.loadmat('xlsa17/data/'+dataset+'/res101.mat')\n",
        "att_splits = scipy.io.loadmat('xlsa17/data/'+dataset+'/att_splits.mat')"
      ],
      "execution_count": 97,
      "outputs": []
    },
    {
      "cell_type": "code",
      "metadata": {
        "colab": {
          "base_uri": "https://localhost:8080/"
        },
        "id": "zewoe81Bxnie",
        "outputId": "bad27d4f-44a7-41d3-c13a-807336f45e11"
      },
      "source": [
        "res101.keys()"
      ],
      "execution_count": 100,
      "outputs": [
        {
          "output_type": "execute_result",
          "data": {
            "text/plain": [
              "dict_keys(['__header__', '__version__', '__globals__', 'features', 'image_files', 'labels'])"
            ]
          },
          "metadata": {
            "tags": []
          },
          "execution_count": 100
        }
      ]
    },
    {
      "cell_type": "code",
      "metadata": {
        "colab": {
          "base_uri": "https://localhost:8080/"
        },
        "id": "N_LOpnbIxWSq",
        "outputId": "304eeae1-2919-4c93-8c3c-78aa31db7a5b"
      },
      "source": [
        "att_splits.keys()"
      ],
      "execution_count": 101,
      "outputs": [
        {
          "output_type": "execute_result",
          "data": {
            "text/plain": [
              "dict_keys(['__header__', '__version__', '__globals__', 'allclasses_names', 'att', 'original_att', 'test_seen_loc', 'test_unseen_loc', 'train_loc', 'trainval_loc', 'val_loc'])"
            ]
          },
          "metadata": {
            "tags": []
          },
          "execution_count": 101
        }
      ]
    },
    {
      "cell_type": "code",
      "metadata": {
        "id": "_ZaeOtHWEoiY"
      },
      "source": [
        "# extract the labels from att_split for all the data set points\n",
        "labels = res101['labels']\n",
        "labels_train = labels[np.squeeze(att_splits['train_loc']-1)]\n",
        "labels_val = labels[np.squeeze(att_splits['val_loc']-1)]\n",
        "labels_trainval = labels[np.squeeze(att_splits['trainval_loc']-1)]\n",
        "labels_test = labels[np.squeeze(att_splits['test_unseen_loc']-1)]"
      ],
      "execution_count": 104,
      "outputs": []
    },
    {
      "cell_type": "code",
      "metadata": {
        "id": "tVu-_cppFHae"
      },
      "source": [
        "# unique labels for all the data set points\n",
        "train_labels_seen = np.unique(labels_train)\n",
        "val_labels_unseen = np.unique(labels_val)\n",
        "trainval_labels_seen = np.unique(labels_trainval)\n",
        "test_labels_unseen = np.unique(labels_test)"
      ],
      "execution_count": 105,
      "outputs": []
    },
    {
      "cell_type": "code",
      "metadata": {
        "id": "iW1jjkxqFIDU"
      },
      "source": [
        "# Indexing labels for all the data set points\n",
        "\n",
        "i = 0\n",
        "for labels in train_labels_seen:\n",
        "    labels_train[labels_train == labels] = i    \n",
        "    i = i+1\n",
        "j = 0\n",
        "for labels in val_labels_unseen:\n",
        "    labels_val[labels_val == labels] = j\n",
        "    j = j+1\n",
        "k = 0\n",
        "for labels in trainval_labels_seen:\n",
        "    labels_trainval[labels_trainval == labels] = k\n",
        "    k = k+1\n",
        "l = 0\n",
        "for labels in test_labels_unseen:\n",
        "    labels_test[labels_test == labels] = l\n",
        "    l = l+1\n",
        "\n",
        "test_label_classes = []\n",
        "for i in test_labels_unseen:\n",
        "  test_label_classes.append(att_splits['allclasses_names'][i-1][0][0])"
      ],
      "execution_count": 107,
      "outputs": []
    },
    {
      "cell_type": "code",
      "metadata": {
        "colab": {
          "base_uri": "https://localhost:8080/"
        },
        "id": "a6QXI22PGS9U",
        "outputId": "a1e2c054-29a4-406b-d3f0-02a40bda9560"
      },
      "source": [
        "X_features = res101['features']\n",
        "train_vec = X_features[:,np.squeeze(att_splits['train_loc']-1)]\n",
        "val_vec = X_features[:,np.squeeze(att_splits['val_loc']-1)]\n",
        "trainval_vec = X_features[:,np.squeeze(att_splits['trainval_loc']-1)]\n",
        "test_vec = X_features[:,np.squeeze(att_splits['test_unseen_loc']-1)]\n",
        "\n",
        "\n",
        "print(\"Features for train:\", train_vec.shape)\n",
        "print(\"Features for val:\", val_vec.shape)\n",
        "print(\"Features for trainval:\", trainval_vec.shape)\n",
        "print(\"Features for test:\", test_vec.shape)"
      ],
      "execution_count": 112,
      "outputs": [
        {
          "output_type": "stream",
          "text": [
            "Features for train: (2048, 16187)\n",
            "Features for val: (2048, 7340)\n",
            "Features for trainval: (2048, 23527)\n",
            "Features for test: (2048, 7913)\n"
          ],
          "name": "stdout"
        }
      ]
    },
    {
      "cell_type": "code",
      "metadata": {
        "id": "t_TrxoinGhkW"
      },
      "source": [
        "#Signature matrix\n",
        "signature = att_splits['att']\n",
        "train_sig = signature[:,(train_labels_seen)-1]\n",
        "val_sig = signature[:,(val_labels_unseen)-1]\n",
        "trainval_sig = signature[:,(trainval_labels_seen)-1]\n",
        "test_sig = signature[:,(test_labels_unseen)-1]\n"
      ],
      "execution_count": 113,
      "outputs": []
    },
    {
      "cell_type": "code",
      "metadata": {
        "id": "MQvrcXAHGl0q"
      },
      "source": [
        "#params for train and val set\n",
        "m_train = labels_train.shape[0]\n",
        "n_val = labels_val.shape[0]\n",
        "z_train = len(train_labels_seen)\n",
        "z1_val = len(val_labels_unseen)\n",
        "\n",
        "#params for trainval and test set\n",
        "m_trainval = labels_trainval.shape[0]\n",
        "n_test = labels_test.shape[0]\n",
        "z_trainval = len(trainval_labels_seen)\n",
        "z1_test = len(test_labels_unseen)"
      ],
      "execution_count": 82,
      "outputs": []
    },
    {
      "cell_type": "code",
      "metadata": {
        "id": "aIF0j1rPGonV"
      },
      "source": [
        "#ground truth for train and val set\n",
        "gt_train = 0*np.ones((m_train, z_train))\n",
        "gt_train[np.arange(m_train), np.squeeze(labels_train)] = 1\n",
        "\n",
        "#grountruth for trainval and test set\n",
        "gt_trainval = 0*np.ones((m_trainval, z_trainval))\n",
        "gt_trainval[np.arange(m_trainval), np.squeeze(labels_trainval)] = 1"
      ],
      "execution_count": 83,
      "outputs": []
    },
    {
      "cell_type": "code",
      "metadata": {
        "id": "LuYmtqDgGsO1"
      },
      "source": [
        "#train set\n",
        "d_train = train_vec.shape[0]\n",
        "a_train = train_sig.shape[0]\n",
        "\n",
        "#Weights\n",
        "V = np.zeros((d_train,a_train))"
      ],
      "execution_count": 84,
      "outputs": []
    },
    {
      "cell_type": "code",
      "metadata": {
        "id": "TIbT20WKGvbu"
      },
      "source": [
        "#trainval set\n",
        "d_trainval = trainval_vec.shape[0]\n",
        "a_trainval = trainval_sig.shape[0]\n",
        "W = np.zeros((d_trainval,a_trainval))\n",
        "\n",
        "#Note: These hyper-parameters were found using the code snippet available below\n",
        "gamm1 = 3\n",
        "alph1 = 0"
      ],
      "execution_count": 85,
      "outputs": []
    },
    {
      "cell_type": "code",
      "metadata": {
        "id": "43kyhl9pGzZT"
      },
      "source": [
        "part_1_test = np.linalg.pinv(np.matmul(trainval_vec, trainval_vec.transpose()) + (10**alph1)*np.eye(d_trainval))\n",
        "part_0_test = np.matmul(np.matmul(trainval_vec,gt_trainval),trainval_sig.transpose())\n",
        "part_2_test = np.linalg.pinv(np.matmul(trainval_sig, trainval_sig.transpose()) + (10**gamm1)*np.eye(a_trainval))\n",
        "\n",
        "W = np.matmul(np.matmul(part_1_test,part_0_test),part_2_test)\n"
      ],
      "execution_count": 86,
      "outputs": []
    },
    {
      "cell_type": "code",
      "metadata": {
        "id": "dgBIo1ntG2Sl"
      },
      "source": [
        "outputs_1 = np.matmul(np.matmul(test_vec.transpose(),W),test_sig)\n",
        "preds_1 = np.array([np.argmax(output) for output in outputs_1])"
      ],
      "execution_count": 87,
      "outputs": []
    },
    {
      "cell_type": "code",
      "metadata": {
        "colab": {
          "base_uri": "https://localhost:8080/"
        },
        "id": "3IDfLpmAG5oo",
        "outputId": "76dd2a6e-b14d-41b2-d558-1fd289b41951"
      },
      "source": [
        "\n",
        "cm = confusion_matrix(labels_test, preds_1)\n",
        "cm = cm.astype('float') / cm.sum(axis=1)[:, np.newaxis]\n",
        "avg = sum(cm.diagonal())/len(test_labels_unseen)\n",
        "print(\"The top 1% accuracy is:\", avg*100)"
      ],
      "execution_count": 88,
      "outputs": [
        {
          "output_type": "stream",
          "text": [
            "The top 1% accuracy is: 45.73846664538193\n"
          ],
          "name": "stdout"
        }
      ]
    },
    {
      "cell_type": "code",
      "metadata": {
        "colab": {
          "base_uri": "https://localhost:8080/"
        },
        "id": "hqkOYXJWI1s1",
        "outputId": "8dca8fd2-b037-4a3c-f296-006f44207042"
      },
      "source": [
        "print(classification_report(labels_test, preds_1, target_names=test_label_classes))"
      ],
      "execution_count": 89,
      "outputs": [
        {
          "output_type": "stream",
          "text": [
            "              precision    recall  f1-score   support\n",
            "\n",
            "       horse       0.37      0.96      0.53      1645\n",
            "  blue+whale       0.24      0.98      0.39       174\n",
            "       sheep       0.51      0.06      0.10      1420\n",
            "        seal       0.42      0.27      0.33       988\n",
            "         bat       1.00      0.00      0.01       383\n",
            "     giraffe       0.00      0.00      0.00      1202\n",
            "         rat       0.35      0.97      0.51       310\n",
            "      bobcat       0.82      0.87      0.85       630\n",
            "      walrus       0.16      0.37      0.22       215\n",
            "     dolphin       0.86      0.09      0.16       946\n",
            "\n",
            "    accuracy                           0.39      7913\n",
            "   macro avg       0.47      0.46      0.31      7913\n",
            "weighted avg       0.46      0.39      0.29      7913\n",
            "\n"
          ],
          "name": "stdout"
        }
      ]
    },
    {
      "cell_type": "code",
      "metadata": {
        "colab": {
          "base_uri": "https://localhost:8080/",
          "height": 232
        },
        "id": "7GUAd0vtG9U_",
        "outputId": "f2c23bf1-d5fe-4a28-ca0d-a143e1fd5bd4"
      },
      "source": [
        "accu = 0.10\n",
        "alph1 = 4\n",
        "gamm1 = 1\n",
        "for alpha in range(-3, 4):\n",
        "    for gamma in range(-3,4):\n",
        "        #One line solution\n",
        "        part_1 = np.linalg.pinv(np.matmul(train_vec, train_vec.transpose()) + (10**alpha)*np.eye(d_train))\n",
        "        part_0 = np.matmul(np.matmul(train_vec,gt_train),train_sig.transpose())\n",
        "        part_2 = np.linalg.pinv(np.matmul(train_sig, train_sig.transpose()) + (10**gamma)*np.eye(a_train))\n",
        "\n",
        "        V = np.matmul(np.matmul(part_1,part_0),part_2)\n",
        "        #print(V)\n",
        "\n",
        "        #predictions\n",
        "        outputs = np.matmul(np.matmul(val_vec.transpose(),V),val_sig)\n",
        "        preds = np.array([np.argmax(output) for output in outputs])\n",
        "\n",
        "        print(accuracy_score(labels_val,preds))\n",
        "        cm = confusion_matrix(labels_val, preds)\n",
        "        cm = cm.astype('float') / cm.sum(axis=1)[:, np.newaxis]\n",
        "        avg = sum(cm.diagonal())/len(val_labels_unseen)\n",
        "        #print(\"Avg:\", avg, alpha, gamma)\n",
        "\n",
        "        if avg > accu:\n",
        "            accu = avg\n",
        "            alph1 = alpha\n",
        "            gamm1 = gamma\n",
        "print(alph1, gamm1)"
      ],
      "execution_count": 123,
      "outputs": [
        {
          "output_type": "error",
          "ename": "NameError",
          "evalue": "ignored",
          "traceback": [
            "\u001b[0;31m---------------------------------------------------------------------------\u001b[0m",
            "\u001b[0;31mNameError\u001b[0m                                 Traceback (most recent call last)",
            "\u001b[0;32m<ipython-input-123-5d0bb74242ae>\u001b[0m in \u001b[0;36m<module>\u001b[0;34m()\u001b[0m\n\u001b[1;32m     16\u001b[0m         \u001b[0mpreds\u001b[0m \u001b[0;34m=\u001b[0m \u001b[0mnp\u001b[0m\u001b[0;34m.\u001b[0m\u001b[0marray\u001b[0m\u001b[0;34m(\u001b[0m\u001b[0;34m[\u001b[0m\u001b[0mnp\u001b[0m\u001b[0;34m.\u001b[0m\u001b[0margmax\u001b[0m\u001b[0;34m(\u001b[0m\u001b[0moutput\u001b[0m\u001b[0;34m)\u001b[0m \u001b[0;32mfor\u001b[0m \u001b[0moutput\u001b[0m \u001b[0;32min\u001b[0m \u001b[0moutputs\u001b[0m\u001b[0;34m]\u001b[0m\u001b[0;34m)\u001b[0m\u001b[0;34m\u001b[0m\u001b[0;34m\u001b[0m\u001b[0m\n\u001b[1;32m     17\u001b[0m \u001b[0;34m\u001b[0m\u001b[0m\n\u001b[0;32m---> 18\u001b[0;31m         \u001b[0mprint\u001b[0m\u001b[0;34m(\u001b[0m\u001b[0maccuracy_score\u001b[0m\u001b[0;34m(\u001b[0m\u001b[0mlabels_val\u001b[0m\u001b[0;34m,\u001b[0m\u001b[0mpreds\u001b[0m\u001b[0;34m)\u001b[0m\u001b[0;34m)\u001b[0m\u001b[0;34m\u001b[0m\u001b[0;34m\u001b[0m\u001b[0m\n\u001b[0m\u001b[1;32m     19\u001b[0m         \u001b[0mcm\u001b[0m \u001b[0;34m=\u001b[0m \u001b[0mconfusion_matrix\u001b[0m\u001b[0;34m(\u001b[0m\u001b[0mlabels_val\u001b[0m\u001b[0;34m,\u001b[0m \u001b[0mpreds\u001b[0m\u001b[0;34m)\u001b[0m\u001b[0;34m\u001b[0m\u001b[0;34m\u001b[0m\u001b[0m\n\u001b[1;32m     20\u001b[0m         \u001b[0mcm\u001b[0m \u001b[0;34m=\u001b[0m \u001b[0mcm\u001b[0m\u001b[0;34m.\u001b[0m\u001b[0mastype\u001b[0m\u001b[0;34m(\u001b[0m\u001b[0;34m'float'\u001b[0m\u001b[0;34m)\u001b[0m \u001b[0;34m/\u001b[0m \u001b[0mcm\u001b[0m\u001b[0;34m.\u001b[0m\u001b[0msum\u001b[0m\u001b[0;34m(\u001b[0m\u001b[0maxis\u001b[0m\u001b[0;34m=\u001b[0m\u001b[0;36m1\u001b[0m\u001b[0;34m)\u001b[0m\u001b[0;34m[\u001b[0m\u001b[0;34m:\u001b[0m\u001b[0;34m,\u001b[0m \u001b[0mnp\u001b[0m\u001b[0;34m.\u001b[0m\u001b[0mnewaxis\u001b[0m\u001b[0;34m]\u001b[0m\u001b[0;34m\u001b[0m\u001b[0;34m\u001b[0m\u001b[0m\n",
            "\u001b[0;31mNameError\u001b[0m: name 'accuracy_score' is not defined"
          ]
        }
      ]
    },
    {
      "cell_type": "code",
      "metadata": {
        "id": "aYoWzu1c46_M"
      },
      "source": [
        ""
      ],
      "execution_count": null,
      "outputs": []
    }
  ]
}