{
  "nbformat": 4,
  "nbformat_minor": 0,
  "metadata": {
    "colab": {
      "name": "Embarrassingly Simple ZSL.ipynb",
      "provenance": [],
      "collapsed_sections": [],
      "authorship_tag": "ABX9TyNyKe9930GdlQ/03TF2R0KJ",
      "include_colab_link": true
    },
    "kernelspec": {
      "name": "python3",
      "display_name": "Python 3"
    }
  },
  "cells": [
    {
      "cell_type": "markdown",
      "metadata": {
        "id": "view-in-github",
        "colab_type": "text"
      },
      "source": [
        "<a href=\"https://colab.research.google.com/github/kiran74-ds/zero_shot_learning/blob/main/Embarrassingly_Simple_ZSL.ipynb\" target=\"_parent\"><img src=\"https://colab.research.google.com/assets/colab-badge.svg\" alt=\"Open In Colab\"/></a>"
      ]
    },
    {
      "cell_type": "markdown",
      "metadata": {
        "id": "vcCtE0HpIERE"
      },
      "source": [
        "### **Embarrassingly simple approach to ZSL**\n",
        "\n",
        "The framework described with this approach is that of 2 parts which is built upon creating relationships between features, attributes and classes with the help of a linear model.\n",
        "\n",
        "The first part helps in defining the relationship between features and attributes with the help of weights in that layer.\n",
        "\n",
        "The second part deals with modelling the relationship between attributes and classes where the prescribed attribute signatures is fixed.\n",
        "\n",
        "<img src=\"https://iq.opengenus.org/content/images/2020/01/Screenshot-from-2020-01-27-00-56-44.png\">"
      ]
    },
    {
      "cell_type": "markdown",
      "metadata": {
        "id": "yO6Cc7sNALcL"
      },
      "source": [
        "### Download the datset"
      ]
    },
    {
      "cell_type": "code",
      "metadata": {
        "id": "NCbEND7ZAIiR"
      },
      "source": [
        "!wget http://datasets.d2.mpi-inf.mpg.de/xian/xlsa17.zip"
      ],
      "execution_count": null,
      "outputs": []
    },
    {
      "cell_type": "code",
      "metadata": {
        "id": "ON2w-sBnDNNb"
      },
      "source": [
        "!unzip xlsa17.zip"
      ],
      "execution_count": null,
      "outputs": []
    },
    {
      "cell_type": "markdown",
      "metadata": {
        "id": "ry16vNOnARJ7"
      },
      "source": [
        "### Import the necessary libraries"
      ]
    },
    {
      "cell_type": "code",
      "metadata": {
        "id": "U4D7xuZNDnn0"
      },
      "source": [
        "import numpy as np\n",
        "import os\n",
        "import scipy.io\n",
        "from sklearn.metrics import classification_report,confusion_matrix, accuracy_score"
      ],
      "execution_count": 163,
      "outputs": []
    },
    {
      "cell_type": "markdown",
      "metadata": {
        "id": "pYSyLOauAcCR"
      },
      "source": [
        "### Laod the DataSet"
      ]
    },
    {
      "cell_type": "markdown",
      "metadata": {
        "id": "c5cF4v9Owbmk"
      },
      "source": [
        "Choose the one of the datasets from the options(APY, AWA1, AWA2, SUN, CUB).\n",
        "I have selected AWA2(Animal with attributes data set) to implement model.\n",
        "\n",
        "+ res101 contains Image Features extracted using resnet model.\n",
        "+ att_splits contains splitting criteria for trian and test data along with class names information"
      ]
    },
    {
      "cell_type": "code",
      "metadata": {
        "id": "sc6Or1KHDyEn"
      },
      "source": [
        "dataset = 'AWA2'\n",
        "res101 = scipy.io.loadmat('xlsa17/data/'+dataset+'/res101.mat')\n",
        "att_splits = scipy.io.loadmat('xlsa17/data/'+dataset+'/att_splits.mat')"
      ],
      "execution_count": 390,
      "outputs": []
    },
    {
      "cell_type": "code",
      "metadata": {
        "colab": {
          "base_uri": "https://localhost:8080/"
        },
        "id": "zewoe81Bxnie",
        "outputId": "a6664ee8-5f8c-4fc9-f5c8-95e1c97f9331"
      },
      "source": [
        "res101.keys()"
      ],
      "execution_count": 376,
      "outputs": [
        {
          "output_type": "execute_result",
          "data": {
            "text/plain": [
              "dict_keys(['__header__', '__version__', '__globals__', 'image_files', 'features', 'labels'])"
            ]
          },
          "metadata": {
            "tags": []
          },
          "execution_count": 376
        }
      ]
    },
    {
      "cell_type": "code",
      "metadata": {
        "colab": {
          "base_uri": "https://localhost:8080/"
        },
        "id": "N_LOpnbIxWSq",
        "outputId": "4fda707a-da85-4d19-db10-28cbfe18a3f4"
      },
      "source": [
        "att_splits.keys()"
      ],
      "execution_count": 377,
      "outputs": [
        {
          "output_type": "execute_result",
          "data": {
            "text/plain": [
              "dict_keys(['__header__', '__version__', '__globals__', 'allclasses_names', 'att', 'original_att', 'test_seen_loc', 'test_unseen_loc', 'train_loc', 'trainval_loc', 'val_loc'])"
            ]
          },
          "metadata": {
            "tags": []
          },
          "execution_count": 377
        }
      ]
    },
    {
      "cell_type": "markdown",
      "metadata": {
        "id": "HNzmLhqgAi6q"
      },
      "source": [
        "### Prepare the Dataset for Training "
      ]
    },
    {
      "cell_type": "code",
      "metadata": {
        "id": "_ZaeOtHWEoiY"
      },
      "source": [
        "# extract the labels from att_split for all the data set points\n",
        "labels = res101['labels']\n",
        "labels_train = labels[np.squeeze(att_splits['train_loc']-1)]\n",
        "labels_val = labels[np.squeeze(att_splits['val_loc']-1)]\n",
        "labels_trainval = labels[np.squeeze(att_splits['trainval_loc']-1)]\n",
        "labels_test = labels[np.squeeze(att_splits['test_unseen_loc']-1)]"
      ],
      "execution_count": 378,
      "outputs": []
    },
    {
      "cell_type": "code",
      "metadata": {
        "id": "tVu-_cppFHae"
      },
      "source": [
        "# unique labels for all the data set points\n",
        "train_labels_seen = np.unique(labels_train)\n",
        "val_labels_unseen = np.unique(labels_val)\n",
        "trainval_labels_seen = np.unique(labels_trainval)\n",
        "test_labels_unseen = np.unique(labels_test)"
      ],
      "execution_count": 379,
      "outputs": []
    },
    {
      "cell_type": "code",
      "metadata": {
        "id": "iW1jjkxqFIDU"
      },
      "source": [
        "# Indexing labels for all the data set points\n",
        "\n",
        "i = 0\n",
        "for labels in train_labels_seen:\n",
        "    labels_train[labels_train == labels] = i    \n",
        "    i = i+1\n",
        "j = 0\n",
        "for labels in val_labels_unseen:\n",
        "    labels_val[labels_val == labels] = j\n",
        "    j = j+1\n",
        "k = 0\n",
        "for labels in trainval_labels_seen:\n",
        "    labels_trainval[labels_trainval == labels] = k\n",
        "    k = k+1\n",
        "l = 0\n",
        "for labels in test_labels_unseen:\n",
        "    labels_test[labels_test == labels] = l\n",
        "    l = l+1\n",
        "\n",
        "test_label_classes = []\n",
        "for i in test_labels_unseen:\n",
        "  test_label_classes.append(att_splits['allclasses_names'][i-1][0][0])"
      ],
      "execution_count": 380,
      "outputs": []
    },
    {
      "cell_type": "code",
      "metadata": {
        "colab": {
          "base_uri": "https://localhost:8080/"
        },
        "id": "a6QXI22PGS9U",
        "outputId": "33ba256b-9dce-4d20-dd51-da1628a8d33f"
      },
      "source": [
        "X_features = res101['features']\n",
        "train_vec = X_features[:,np.squeeze(att_splits['train_loc']-1)]\n",
        "val_vec = X_features[:,np.squeeze(att_splits['val_loc']-1)]\n",
        "trainval_vec = X_features[:,np.squeeze(att_splits['trainval_loc']-1)]\n",
        "test_vec = X_features[:,np.squeeze(att_splits['test_unseen_loc']-1)]\n",
        "\n",
        "\n",
        "print(\"Features for train:\", train_vec.shape)\n",
        "print(\"Features for val:\", val_vec.shape)\n",
        "print(\"Features for trainval:\", trainval_vec.shape)\n",
        "print(\"Features for test:\", test_vec.shape)"
      ],
      "execution_count": 381,
      "outputs": [
        {
          "output_type": "stream",
          "text": [
            "Features for train: (2048, 4906)\n",
            "Features for val: (2048, 1026)\n",
            "Features for trainval: (2048, 5932)\n",
            "Features for test: (2048, 7924)\n"
          ],
          "name": "stdout"
        }
      ]
    },
    {
      "cell_type": "code",
      "metadata": {
        "colab": {
          "base_uri": "https://localhost:8080/"
        },
        "id": "t_TrxoinGhkW",
        "outputId": "44a954b8-0b83-4089-8f13-02c1db0a9c5a"
      },
      "source": [
        "#Signature matrix\n",
        "signature = att_splits['att']\n",
        "train_sig = signature[:,(train_labels_seen)-1]\n",
        "val_sig = signature[:,(val_labels_unseen)-1]\n",
        "trainval_sig = signature[:,(trainval_labels_seen)-1]\n",
        "test_sig = signature[:,(test_labels_unseen)-1]\n",
        "\n",
        "print(\"Signature for train:\", train_sig.shape)\n",
        "print(\"Signature for val:\", val_sig.shape)\n",
        "print(\"Signature for trainval:\", trainval_sig.shape)\n",
        "print(\"Signature for test:\", test_sig.shape)\n"
      ],
      "execution_count": 382,
      "outputs": [
        {
          "output_type": "stream",
          "text": [
            "Signature for train: (64, 15)\n",
            "Signature for val: (64, 5)\n",
            "Signature for trainval: (64, 20)\n",
            "Signature for test: (64, 12)\n"
          ],
          "name": "stdout"
        }
      ]
    },
    {
      "cell_type": "code",
      "metadata": {
        "id": "MQvrcXAHGl0q"
      },
      "source": [
        "#params for train and val set\n",
        "m_train = labels_train.shape[0]\n",
        "n_val = labels_val.shape[0]\n",
        "z_train = len(train_labels_seen)\n",
        "z1_val = len(val_labels_unseen)\n",
        "\n",
        "#params for trainval and test set\n",
        "m_trainval = labels_trainval.shape[0]\n",
        "n_test = labels_test.shape[0]\n",
        "z_trainval = len(trainval_labels_seen)\n",
        "z1_test = len(test_labels_unseen)\n",
        "\n",
        "\n",
        "#ground truth for train and val set\n",
        "gt_train = 0*np.ones((m_train, z_train))\n",
        "gt_train[np.arange(m_train), np.squeeze(labels_train)] = 1\n",
        "\n",
        "#grountruth for trainval and test set\n",
        "gt_trainval = 0*np.ones((m_trainval, z_trainval))\n",
        "gt_trainval[np.arange(m_trainval), np.squeeze(labels_trainval)] = 1"
      ],
      "execution_count": 383,
      "outputs": []
    },
    {
      "cell_type": "markdown",
      "metadata": {
        "id": "UhnhzJVPBF0j"
      },
      "source": [
        "### **We will implement the model using this simple one line solution**\n",
        "\n",
        "**V = inverse(XX' + γI) XYS' inverse(SS' + λI)**"
      ]
    },
    {
      "cell_type": "code",
      "metadata": {
        "id": "LuYmtqDgGsO1"
      },
      "source": [
        "#train set\n",
        "d_train = train_vec.shape[0]\n",
        "a_train = train_sig.shape[0]\n",
        "\n",
        "#Weights\n",
        "V = np.zeros((d_train,a_train))"
      ],
      "execution_count": 384,
      "outputs": []
    },
    {
      "cell_type": "code",
      "metadata": {
        "id": "TIbT20WKGvbu"
      },
      "source": [
        "#trainval set\n",
        "d_trainval = trainval_vec.shape[0]\n",
        "a_trainval = trainval_sig.shape[0]\n",
        "W = np.zeros((d_trainval,a_trainval))\n",
        "\n",
        "#Note: These hyper-parameters were found using the code snippet available below\n",
        "gamma = 3\n",
        "lamda = -1"
      ],
      "execution_count": 385,
      "outputs": []
    },
    {
      "cell_type": "code",
      "metadata": {
        "id": "43kyhl9pGzZT"
      },
      "source": [
        "part_left = np.linalg.pinv(np.matmul(trainval_vec, trainval_vec.transpose()) + (10**gamma)*np.eye(d_trainval))\n",
        "part_middle= np.matmul(np.matmul(trainval_vec,gt_trainval),trainval_sig.transpose())\n",
        "part_right = np.linalg.pinv(np.matmul(trainval_sig, trainval_sig.transpose()) + (10**lamda)*np.eye(a_trainval))\n",
        "\n",
        "W = np.matmul(np.matmul(part_left,part_middle),part_right)\n"
      ],
      "execution_count": 386,
      "outputs": []
    },
    {
      "cell_type": "markdown",
      "metadata": {
        "id": "NvHxSm8HJul1"
      },
      "source": [
        "Making Predictions"
      ]
    },
    {
      "cell_type": "code",
      "metadata": {
        "id": "dgBIo1ntG2Sl"
      },
      "source": [
        "outputs = np.matmul(np.matmul(test_vec.transpose(),W),test_sig)\n",
        "preds = np.array([np.argmax(output) for output in outputs])"
      ],
      "execution_count": 387,
      "outputs": []
    },
    {
      "cell_type": "markdown",
      "metadata": {
        "id": "RvM3NhoHJhRt"
      },
      "source": [
        "### Model Evaluation"
      ]
    },
    {
      "cell_type": "code",
      "metadata": {
        "colab": {
          "base_uri": "https://localhost:8080/"
        },
        "id": "3IDfLpmAG5oo",
        "outputId": "14578099-03a9-4c1c-a7b5-feb7ede4b9c1"
      },
      "source": [
        "cm = confusion_matrix(labels_test, preds)\n",
        "cm = cm.astype('float') / cm.sum(axis=1)[:, np.newaxis]\n",
        "avg = sum(cm.diagonal())/len(test_labels_unseen)\n",
        "\n",
        "print(\"The top 1% accuracy is:\", avg*100)"
      ],
      "execution_count": 388,
      "outputs": [
        {
          "output_type": "stream",
          "text": [
            "The top 1% accuracy is: 38.47890467016037\n"
          ],
          "name": "stdout"
        }
      ]
    },
    {
      "cell_type": "code",
      "metadata": {
        "colab": {
          "base_uri": "https://localhost:8080/"
        },
        "id": "hqkOYXJWI1s1",
        "outputId": "43de3721-4299-4d5e-c6d9-cb141ce5ddac"
      },
      "source": [
        "print(classification_report(labels_test, preds, target_names=test_label_classes))"
      ],
      "execution_count": 389,
      "outputs": [
        {
          "output_type": "stream",
          "text": [
            "              precision    recall  f1-score   support\n",
            "\n",
            "         cow       0.14      0.40      0.21       197\n",
            "       horse       0.53      0.33      0.41       306\n",
            "   motorbike       0.20      0.93      0.33       297\n",
            "      person       0.78      0.15      0.25      5071\n",
            " pottedplant       0.06      0.04      0.05       436\n",
            "       sheep       0.30      0.27      0.28       234\n",
            "       train       0.27      0.69      0.39       176\n",
            "   tvmonitor       0.11      0.49      0.18       299\n",
            "      donkey       0.31      0.24      0.28       139\n",
            "        goat       0.24      0.14      0.18       163\n",
            "      jetski       0.19      0.89      0.31       399\n",
            "      statue       0.02      0.04      0.03       207\n",
            "\n",
            "    accuracy                           0.25      7924\n",
            "   macro avg       0.26      0.38      0.24      7924\n",
            "weighted avg       0.57      0.25      0.24      7924\n",
            "\n"
          ],
          "name": "stdout"
        }
      ]
    },
    {
      "cell_type": "markdown",
      "metadata": {
        "id": "4s3xv17lHiSr"
      },
      "source": [
        "**Hyperparamter Tuning**"
      ]
    },
    {
      "cell_type": "code",
      "metadata": {
        "colab": {
          "base_uri": "https://localhost:8080/"
        },
        "id": "7GUAd0vtG9U_",
        "outputId": "c37f47a1-ba90-4fd5-a15f-33eb7c2292bb"
      },
      "source": [
        "accu = 0.10\n",
        "gamma1 = 4\n",
        "lamda1 = 1\n",
        "for gamma in range(-2, 4):\n",
        "    for lamda in range(-2,4):\n",
        "        #One line solution\n",
        "        part_left = np.linalg.pinv(np.matmul(train_vec, train_vec.transpose()) + (10**gamma)*np.eye(d_train))\n",
        "        part_middle = np.matmul(np.matmul(train_vec,gt_train),train_sig.transpose())\n",
        "        part_right = np.linalg.pinv(np.matmul(train_sig, train_sig.transpose()) + (10**lamda)*np.eye(a_train))\n",
        "\n",
        "        V = np.matmul(np.matmul(part_left,part_middle),part_right)\n",
        "\n",
        "        #predictions\n",
        "        outputs = np.matmul(np.matmul(val_vec.transpose(),V),val_sig)\n",
        "        preds = np.array([np.argmax(output) for output in outputs])\n",
        "\n",
        "        cm = confusion_matrix(labels_val, preds)\n",
        "        cm = cm.astype('float') / cm.sum(axis=1)[:, np.newaxis]\n",
        "        avg = sum(cm.diagonal())/len(val_labels_unseen)\n",
        "        print(\"Average Accuracy {}, gamma:{}, lambda:{}\".format(avg, gamma, lamda))\n",
        "\n",
        "        if avg > accu:\n",
        "            accu = avg\n",
        "            gamma1 = gamma\n",
        "            lamda1 = lamda\n",
        "print(\"-------------------------\")         \n",
        "print(\"Best Hyperparameters gamma: {} , lambda: {}\".format(gamma1, lamda1))"
      ],
      "execution_count": 186,
      "outputs": [
        {
          "output_type": "stream",
          "text": [
            "Average Accuracy 0.530569855230006, gamma:2, lambda:2\n",
            "Average Accuracy 0.5170873122068254, gamma:2, lambda:3\n",
            "Average Accuracy 0.5489361826794676, gamma:3, lambda:2\n",
            "Average Accuracy 0.5327763165316234, gamma:3, lambda:3\n",
            "-------------------------\n",
            "Best Hyperparameters gamma: 3 , lambda: 2\n"
          ],
          "name": "stdout"
        }
      ]
    },
    {
      "cell_type": "markdown",
      "metadata": {
        "id": "H2bHR2IOK18w"
      },
      "source": [
        "### Top 1 Accuracy results on different datsaets\n",
        "\n",
        "| DataSet | Top-1 Accuracy | Hyperparameters |\n",
        "| --- | --- | --- |\n",
        "| CUB | 51.3 | Gamma=2, Lambda=0 |\n",
        "| AWA1 | 56.19 | Gamma=3, Lambda=0 |\n",
        "| AWA2 | 54.5 | Gamma=3, Lambda=0 |\n",
        "| SUN | 52.3 | Gamma=2, Lambda=2 |\n",
        "| APY | 38.5 | Gamma=3, Lambda=-1|"
      ]
    }
  ]
}